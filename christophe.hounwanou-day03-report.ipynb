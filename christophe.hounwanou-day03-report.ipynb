{
 "cells": [
  {
   "cell_type": "markdown",
   "metadata": {
    "id": "vuZYRaBzbIcs"
   },
   "source": [
    "## Practical 1: Version Control with Git: `local` "
   ]
  },
  {
   "cell_type": "markdown",
   "metadata": {},
   "source": [
    "<left> <b> <span style=\"color:red;\"> \n",
    "This notebook is focused on version control with a local repository. You are expected to go through it line by line, step by step. Execute each code cell and follow the instructions to understand how to manage version control locally. Experiment with commands, make changes, and observe how they affect your repository. Your hands-on interaction with the examples will enhance your comprehension of local version control practices.\n",
    "</span> </b></left>\n",
    "\n",
    "\n",
    "## You might find [this reference](https://ndpsoftware.com/git-cheatsheet.html#loc=index;) ,   [this command list](https://git-scm.com/docs) as well as  this [resource](https://git-scm.com/docs/gittutorial) very useful for this practical."
   ]
  },
  {
   "cell_type": "markdown",
   "metadata": {
    "id": "be02507b"
   },
   "source": [
    "### What is Version Control ?\n",
    "\n",
    "\n",
    "In software development, revision control systems (RCS) are essential tools. They are widely used across all development environments and by developers everywhere.\n",
    "\n",
    "RCS are versatile and not limited to just software projects; they are also invaluable for managing various types of digital content, including manuscripts, figures, data, and notebooks.\n",
    "\n",
    "Revision control systems (RCS) serve two primary purposes:\n",
    "\n",
    "1. **Track Changes in Source Code:**\n",
    "   - Enable tracking and managing changes to the source code.\n",
    "   - Allow reverting to previous versions if issues arise.\n",
    "   - Support working on multiple \"branches\" of the software at the same time.\n",
    "   - Use tags to identify and manage different versions, such as \"release-1.0\" or \"paper-A-final.\"\n",
    "\n",
    "2. **Facilitate Collaborative Development:**\n",
    "   - Allow multiple contributors to work on the same codebase simultaneously.\n",
    "   - Enable numerous authors to make and integrate changes.\n",
    "   - Provide clear communication and visualization of changes to all team members.\n",
    "\n",
    "\n",
    "\n",
    "\n",
    "### Basic Principles and Terminology of Revision Control Systems (RCS)\n",
    "\n",
    "In an RCS, source code or digital content is managed within a repository.\n",
    "\n",
    "- **Repository:** Stores not only the latest version of files but also the complete history of all changes made to these files since their initial addition to the repository.\n",
    "\n",
    "- **Checkout:** Users obtain a local working copy of the files from the repository. Changes are made to these local files, allowing for additions, deletions, and updates.\n",
    "\n",
    "- **Commit:** After completing a task, changes made to the local files are saved back to the repository.\n",
    "\n",
    "- **Conflict Resolution:** If changes have been made by others to the same files, conflicts may arise. The system often resolves conflicts automatically, but manual intervention may be necessary to merge conflicting changes.\n",
    "\n",
    "- **Branches and Forks:** For larger experimental developments, it’s common to create a new branch, fork, or clone of the repository. The primary branch is usually called `master` or `trunk`. Once work on a branch or fork is finished, it can be merged back into the main branch or repository.\n",
    "\n",
    "- **Distributed RCS:** Systems like Git or Mercurial allow for pulling and pushing changesets between different repositories. For instance, changes can be pushed from a local repository to a central online repository, such as those hosted on platforms like GitHub.\n",
    "\n",
    "\n",
    "In a few words, **version control** is a way to keep a backup of the changes in your\n",
    "files and to store a history of those changes.  The key charateristic of VC is that and it\n",
    "allows many people in a collaboration to make changes to the same files\n",
    "concurrently. VC is done via a VC system and there are a lot of them. [Wikipedia](https://en.wikipedia.org/wiki/Version_control)\n",
    "provides both a nice vocabulary list and a fairly complete table of some\n",
    "popular version control systems and their equivalent commands.\n",
    "\n",
    "\n",
    "\n",
    "### Popular Revision Control Systems\n",
    "\n",
    "- **Git (git):** [http://git-scm.com/](http://git-scm.com/)\n",
    "- **Mercurial (hg):** [http://mercurial.selenic.com/](http://mercurial.selenic.com/)\n",
    "\n",
    "In the remainder of this lecture, we will focus on Git. However, Mercurial is equally effective and operates in a very similar manner.\n",
    "\n",
    "We'll be using git. `Git` is an example of a distributed version control system, distinct from centralized versing control systems. I'll not discuss the distinction, but for now, the table below will\n",
    "suffice.\n",
    "\n",
    "Version Control System Tool Options\n",
    "\n",
    "- **Distributed** \n",
    "  - Decentralized CVS (dcvs)  \n",
    "  - mercurial (hg)\n",
    "  - git (git) \n",
    "  - bazaar (bzr)\n",
    "  \n",
    "- **Centralized**\n",
    "  - concurrent versions system (cvs)\n",
    "  - subversion (svn)"
   ]
  },
  {
   "cell_type": "markdown",
   "metadata": {},
   "source": [
    "## git --help : Getting Help\n",
    "\n",
    "The first thing you should know about any **tool** is how to get **help**. From the command line type\n",
    "\n",
    "```bash\n",
    "$ man git\n",
    "```\n",
    "\n",
    "If you remember from the **shell class**, **man** tells you more about a command and how to use it. The manual entry for the git version control system will appear before you. You may scroll through it using arrows, or you can search for\n",
    "keywords by typing **/** followed by the search term. I'm interested in help, so I type **/help** and then hit enter. It looks like the syntax for getting help with git is **git --help**."
   ]
  },
  {
   "cell_type": "code",
   "execution_count": 3,
   "metadata": {},
   "outputs": [
    {
     "name": "stdout",
     "output_type": "stream",
     "text": [
      "usage: git [-v | --version] [-h | --help] [-C <path>] [-c <name>=<value>]\n",
      "           [--exec-path[=<path>]] [--html-path] [--man-path] [--info-path]\n",
      "           [-p | --paginate | -P | --no-pager] [--no-replace-objects] [--no-lazy-fetch]\n",
      "           [--no-optional-locks] [--no-advice] [--bare] [--git-dir=<path>]\n",
      "           [--work-tree=<path>] [--namespace=<name>] [--config-env=<name>=<envvar>]\n",
      "           <command> [<args>]\n",
      "\n",
      "These are common Git commands used in various situations:\n",
      "\n",
      "start a working area (see also: git help tutorial)\n",
      "   clone     Clone a repository into a new directory\n",
      "   init      Create an empty Git repository or reinitialize an existing one\n",
      "\n",
      "work on the current change (see also: git help everyday)\n",
      "   add       Add file contents to the index\n",
      "   mv        Move or rename a file, a directory, or a symlink\n",
      "   restore   Restore working tree files\n",
      "   rm        Remove files from the working tree and from the index\n",
      "\n",
      "examine the history and state (see also: git help revisions)\n",
      "   bisect    Use binary search to find the commit that introduced a bug\n",
      "   diff      Show changes between commits, commit and working tree, etc\n",
      "   grep      Print lines matching a pattern\n",
      "   log       Show commit logs\n",
      "   show      Show various types of objects\n",
      "   status    Show the working tree status\n",
      "\n",
      "grow, mark and tweak your common history\n",
      "   branch    List, create, or delete branches\n",
      "   commit    Record changes to the repository\n",
      "   merge     Join two or more development histories together\n",
      "   rebase    Reapply commits on top of another base tip\n",
      "   reset     Reset current HEAD to the specified state\n",
      "   switch    Switch branches\n",
      "   tag       Create, list, delete or verify a tag object signed with GPG\n",
      "\n",
      "collaborate (see also: git help workflows)\n",
      "   fetch     Download objects and refs from another repository\n",
      "   pull      Fetch from and integrate with another repository or a local branch\n",
      "   push      Update remote refs along with associated objects\n",
      "\n",
      "'git help -a' and 'git help -g' list available subcommands and some\n",
      "concept guides. See 'git help <command>' or 'git help <concept>'\n",
      "to read about a specific subcommand or concept.\n",
      "See 'git help git' for an overview of the system.\n"
     ]
    }
   ],
   "source": [
    "!git --help"
   ]
  },
  {
   "cell_type": "markdown",
   "metadata": {
    "id": "fee39700"
   },
   "source": [
    "To exit the manual page, type `q`.\n",
    "\n",
    "Let's see what happens when we type :\n",
    "\n",
    "```bash\n",
    "$ git --help\n",
    "```\n",
    "\n",
    "Excellent, it gives a list of commands it is able to help with, as well as their descriptions.\n",
    "\n",
    "```bash\n",
    "$  git help <command>' for more information on a specific command.\n",
    "```"
   ]
  },
  {
   "cell_type": "code",
   "execution_count": 4,
   "metadata": {},
   "outputs": [
    {
     "name": "stdout",
     "output_type": "stream",
     "text": [
      "See 'git help <command>' to read about a specific subcommand\n",
      "\n",
      "Main Porcelain Commands\n",
      "   add                     Add file contents to the index\n",
      "   am                      Apply a series of patches from a mailbox\n",
      "   archive                 Create an archive of files from a named tree\n",
      "   bisect                  Use binary search to find the commit that introduced a bug\n",
      "   branch                  List, create, or delete branches\n",
      "   bundle                  Move objects and refs by archive\n",
      "   checkout                Switch branches or restore working tree files\n",
      "   cherry-pick             Apply the changes introduced by some existing commits\n",
      "   citool                  Graphical alternative to git-commit\n",
      "   clean                   Remove untracked files from the working tree\n",
      "   clone                   Clone a repository into a new directory\n",
      "   commit                  Record changes to the repository\n",
      "   describe                Give an object a human readable name based on an available ref\n",
      "   diff                    Show changes between commits, commit and working tree, etc\n",
      "   fetch                   Download objects and refs from another repository\n",
      "   format-patch            Prepare patches for e-mail submission\n",
      "   gc                      Cleanup unnecessary files and optimize the local repository\n",
      "   gitk                    The Git repository browser\n",
      "   grep                    Print lines matching a pattern\n",
      "   gui                     A portable graphical interface to Git\n",
      "   init                    Create an empty Git repository or reinitialize an existing one\n",
      "   log                     Show commit logs\n",
      "   maintenance             Run tasks to optimize Git repository data\n",
      "   merge                   Join two or more development histories together\n",
      "   mv                      Move or rename a file, a directory, or a symlink\n",
      "   notes                   Add or inspect object notes\n",
      "   pull                    Fetch from and integrate with another repository or a local branch\n",
      "   push                    Update remote refs along with associated objects\n",
      "   range-diff              Compare two commit ranges (e.g. two versions of a branch)\n",
      "   rebase                  Reapply commits on top of another base tip\n",
      "   reset                   Reset current HEAD to the specified state\n",
      "   restore                 Restore working tree files\n",
      "   revert                  Revert some existing commits\n",
      "   rm                      Remove files from the working tree and from the index\n",
      "   scalar                  A tool for managing large Git repositories\n",
      "   shortlog                Summarize 'git log' output\n",
      "   show                    Show various types of objects\n",
      "   sparse-checkout         Reduce your working tree to a subset of tracked files\n",
      "   stash                   Stash the changes in a dirty working directory away\n",
      "   status                  Show the working tree status\n",
      "   submodule               Initialize, update or inspect submodules\n",
      "   switch                  Switch branches\n",
      "   tag                     Create, list, delete or verify a tag object signed with GPG\n",
      "   worktree                Manage multiple working trees\n",
      "\n",
      "Ancillary Commands / Manipulators\n",
      "   config                  Get and set repository or global options\n",
      "   fast-export             Git data exporter\n",
      "   fast-import             Backend for fast Git data importers\n",
      "   filter-branch           Rewrite branches\n",
      "   mergetool               Run merge conflict resolution tools to resolve merge conflicts\n",
      "   pack-refs               Pack heads and tags for efficient repository access\n",
      "   prune                   Prune all unreachable objects from the object database\n",
      "   reflog                  Manage reflog information\n",
      "   refs                    Low-level access to refs\n",
      "   remote                  Manage set of tracked repositories\n",
      "   repack                  Pack unpacked objects in a repository\n",
      "   replace                 Create, list, delete refs to replace objects\n",
      "\n",
      "Ancillary Commands / Interrogators\n",
      "   annotate                Annotate file lines with commit information\n",
      "   blame                   Show what revision and author last modified each line of a file\n",
      "   bugreport               Collect information for user to file a bug report\n",
      "   count-objects           Count unpacked number of objects and their disk consumption\n",
      "   diagnose                Generate a zip archive of diagnostic information\n",
      "   difftool                Show changes using common diff tools\n",
      "   fsck                    Verifies the connectivity and validity of the objects in the database\n",
      "   gitweb                  Git web interface (web frontend to Git repositories)\n",
      "   help                    Display help information about Git\n",
      "   instaweb                Instantly browse your working repository in gitweb\n",
      "   merge-tree              Perform merge without touching index or working tree\n",
      "   rerere                  Reuse recorded resolution of conflicted merges\n",
      "   show-branch             Show branches and their commits\n",
      "   verify-commit           Check the GPG signature of commits\n",
      "   verify-tag              Check the GPG signature of tags\n",
      "   version                 Display version information about Git\n",
      "   whatchanged             Show logs with differences each commit introduces\n",
      "\n",
      "Interacting with Others\n",
      "   archimport              Import a GNU Arch repository into Git\n",
      "   cvsexportcommit         Export a single commit to a CVS checkout\n",
      "   cvsimport               Salvage your data out of another SCM people love to hate\n",
      "   cvsserver               A CVS server emulator for Git\n",
      "   imap-send               Send a collection of patches from stdin to an IMAP folder\n",
      "   p4                      Import from and submit to Perforce repositories\n",
      "   quiltimport             Applies a quilt patchset onto the current branch\n",
      "   request-pull            Generates a summary of pending changes\n",
      "   send-email              Send a collection of patches as emails\n",
      "   svn                     Bidirectional operation between a Subversion repository and Git\n",
      "\n",
      "Low-level Commands / Manipulators\n",
      "   apply                   Apply a patch to files and/or to the index\n",
      "   checkout-index          Copy files from the index to the working tree\n",
      "   commit-graph            Write and verify Git commit-graph files\n",
      "   commit-tree             Create a new commit object\n",
      "   hash-object             Compute object ID and optionally create an object from a file\n",
      "   index-pack              Build pack index file for an existing packed archive\n",
      "   merge-file              Run a three-way file merge\n",
      "   merge-index             Run a merge for files needing merging\n",
      "   mktag                   Creates a tag object with extra validation\n",
      "   mktree                  Build a tree-object from ls-tree formatted text\n",
      "   multi-pack-index        Write and verify multi-pack-indexes\n",
      "   pack-objects            Create a packed archive of objects\n",
      "   prune-packed            Remove extra objects that are already in pack files\n",
      "   read-tree               Reads tree information into the index\n",
      "   replay                  EXPERIMENTAL: Replay commits on a new base, works with bare repos too\n",
      "   symbolic-ref            Read, modify and delete symbolic refs\n",
      "   unpack-objects          Unpack objects from a packed archive\n",
      "   update-index            Register file contents in the working tree to the index\n",
      "   update-ref              Update the object name stored in a ref safely\n",
      "   write-tree              Create a tree object from the current index\n",
      "\n",
      "Low-level Commands / Interrogators\n",
      "   cat-file                Provide contents or details of repository objects\n",
      "   cherry                  Find commits yet to be applied to upstream\n",
      "   diff-files              Compares files in the working tree and the index\n",
      "   diff-index              Compare a tree to the working tree or index\n",
      "   diff-tree               Compares the content and mode of blobs found via two tree objects\n",
      "   for-each-ref            Output information on each ref\n",
      "   for-each-repo           Run a Git command on a list of repositories\n",
      "   get-tar-commit-id       Extract commit ID from an archive created using git-archive\n",
      "   ls-files                Show information about files in the index and the working tree\n",
      "   ls-remote               List references in a remote repository\n",
      "   ls-tree                 List the contents of a tree object\n",
      "   merge-base              Find as good common ancestors as possible for a merge\n",
      "   name-rev                Find symbolic names for given revs\n",
      "   pack-redundant          Find redundant pack files\n",
      "   rev-list                Lists commit objects in reverse chronological order\n",
      "   rev-parse               Pick out and massage parameters\n",
      "   show-index              Show packed archive index\n",
      "   show-ref                List references in a local repository\n",
      "   unpack-file             Creates a temporary file with a blob's contents\n",
      "   var                     Show a Git logical variable\n",
      "   verify-pack             Validate packed Git archive files\n",
      "\n",
      "Low-level Commands / Syncing Repositories\n",
      "   daemon                  A really simple server for Git repositories\n",
      "   fetch-pack              Receive missing objects from another repository\n",
      "   http-backend            Server side implementation of Git over HTTP\n",
      "   send-pack               Push objects over Git protocol to another repository\n",
      "   update-server-info      Update auxiliary info file to help dumb servers\n",
      "\n",
      "Low-level Commands / Internal Helpers\n",
      "   check-attr              Display gitattributes information\n",
      "   check-ignore            Debug gitignore / exclude files\n",
      "   check-mailmap           Show canonical names and email addresses of contacts\n",
      "   check-ref-format        Ensures that a reference name is well formed\n",
      "   column                  Display data in columns\n",
      "   credential              Retrieve and store user credentials\n",
      "   credential-cache        Helper to temporarily store passwords in memory\n",
      "   credential-store        Helper to store credentials on disk\n",
      "   fmt-merge-msg           Produce a merge commit message\n",
      "   hook                    Run git hooks\n",
      "   interpret-trailers      Add or parse structured information in commit messages\n",
      "   mailinfo                Extracts patch and authorship from a single e-mail message\n",
      "   mailsplit               Simple UNIX mbox splitter program\n",
      "   merge-one-file          The standard helper program to use with git-merge-index\n",
      "   patch-id                Compute unique ID for a patch\n",
      "   sh-i18n                 Git's i18n setup code for shell scripts\n",
      "   sh-setup                Common Git shell script setup code\n",
      "   stripspace              Remove unnecessary whitespace\n",
      "\n",
      "User-facing repository, command and file interfaces\n",
      "   attributes              Defining attributes per path\n",
      "   cli                     Git command-line interface and conventions\n",
      "   hooks                   Hooks used by Git\n",
      "   ignore                  Specifies intentionally untracked files to ignore\n",
      "   mailmap                 Map author/committer names and/or E-Mail addresses\n",
      "   modules                 Defining submodule properties\n",
      "   repository-layout       Git Repository Layout\n",
      "   revisions               Specifying revisions and ranges for Git\n",
      "\n",
      "Developer-facing file formats, protocols and other interfaces\n",
      "   format-bundle           The bundle file format\n",
      "   format-chunk            Chunk-based file formats\n",
      "   format-commit-graph     Git commit-graph format\n",
      "   format-index            Git index format\n",
      "   format-pack             Git pack format\n",
      "   format-signature        Git cryptographic signature formats\n",
      "   protocol-capabilities   Protocol v0 and v1 capabilities\n",
      "   protocol-common         Things common to various protocols\n",
      "   protocol-http           Git HTTP-based protocols\n",
      "   protocol-pack           How packs are transferred over-the-wire\n",
      "   protocol-v2             Git Wire Protocol, Version 2\n",
      "\n",
      "External commands\n",
      "   askpass\n",
      "   askyesno\n",
      "   credential-helper-selector\n",
      "   credential-manager\n",
      "   flow\n",
      "   lfs\n",
      "   update-git-for-windows\n"
     ]
    }
   ],
   "source": [
    "!git --help -a"
   ]
  },
  {
   "cell_type": "markdown",
   "metadata": {
    "id": "da6e3f66"
   },
   "source": [
    "## git config : Controls the behavior of git\n",
    "A few settings are in order. You don't have to do it now but it is recommanded.\n",
    "\n",
    "```bash\n",
    "$ git config --global user.name \"YOUR NAME\"\n",
    "$ git config --global user.email \"YOUR EMAIL\"\n",
    "```     "
   ]
  },
  {
   "cell_type": "code",
   "execution_count": 9,
   "metadata": {},
   "outputs": [],
   "source": [
    "!git config --global user.name \"Christophe HOUNWANOU\""
   ]
  },
  {
   "cell_type": "code",
   "execution_count": 10,
   "metadata": {},
   "outputs": [],
   "source": [
    "!git config --global user.email \"christophe.hounwanou@aims.ac.rw\""
   ]
  },
  {
   "cell_type": "markdown",
   "metadata": {
    "id": "1b56ee4f"
   },
   "source": [
    "## git init : Creating a Local Repository\n",
    "\n",
    "To keep track of numerous versions of your work without saving numerous\n",
    "copies, you can make a local repository for it on your computer. What git\n",
    "does is to save the first version, then for each subsequent version it\n",
    "saves only the changes. This is the trick, git only records the difference between\n",
    "the new version and the one before it. With this compact information,\n",
    "git is able to recreate any version on demand by adding the changes to\n",
    "the original in order up to the version of interest.\n",
    "\n",
    "To create your own local (on your own machine) repository, you must\n",
    "initialize the repository with the infrastructure git needs in order to\n",
    "keep a record of things within the repository that you're concerned\n",
    "about. The command to do this is **git init** ."
   ]
  },
  {
   "cell_type": "code",
   "execution_count": 11,
   "metadata": {},
   "outputs": [
    {
     "name": "stdout",
     "output_type": "stream",
     "text": [
      "Initialized empty Git repository in C:/Users/HP/Desktop/.git/\n"
     ]
    }
   ],
   "source": [
    "!git init"
   ]
  },
  {
   "cell_type": "markdown",
   "metadata": {
    "id": "884dc97c"
   },
   "source": [
    "* * * * \n",
    "### Practical : Create a Local Repository\n",
    "\n",
    "Step 1 : Initialize your repository. Navigate to `/home`\n",
    "\n",
    "```bash\n",
    "$ cd\n",
    "$ mkdir simplestats\n",
    "$ cd simplestats\n",
    "$ git init\n",
    "Initialized empty Git repository in /home/me/simplestats/.git/\n",
    "```\n"
   ]
  },
  {
   "cell_type": "code",
   "execution_count": 14,
   "metadata": {},
   "outputs": [
    {
     "name": "stdout",
     "output_type": "stream",
     "text": [
      "C:\\Users\\HP\n"
     ]
    }
   ],
   "source": [
    "!cd"
   ]
  },
  {
   "cell_type": "code",
   "execution_count": 21,
   "metadata": {},
   "outputs": [
    {
     "name": "stdout",
     "output_type": "stream",
     "text": [
      "C:\\Users\\HP\\simplestats\n"
     ]
    }
   ],
   "source": [
    "!cd"
   ]
  },
  {
   "cell_type": "code",
   "execution_count": 45,
   "metadata": {},
   "outputs": [
    {
     "name": "stdout",
     "output_type": "stream",
     "text": [
      "Reinitialized existing Git repository in C:/Users/HP/simplestats/.git/\n"
     ]
    }
   ],
   "source": [
    "!git init"
   ]
  },
  {
   "cell_type": "markdown",
   "metadata": {},
   "source": [
    "Step 2 : Browse the directory's hidden files to see what happened here.\n",
    "Open directories, browse file contents. Learn what you can in a minute.\n",
    "\n",
    "```bash\n",
    "$ ls -A .git\n",
    "$ cd .git\n",
    "$ ls -A\n",
    "HEAD        config      description hooks       info        objects     refs      branches\n",
    "```\n",
    "\n"
   ]
  },
  {
   "cell_type": "code",
   "execution_count": 46,
   "metadata": {},
   "outputs": [
    {
     "name": "stdout",
     "output_type": "stream",
     "text": [
      " Volume in drive C has no label.\n",
      " Volume Serial Number is 543C-33FB\n",
      "\n",
      " Directory of C:\\Users\\HP\\simplestats\n",
      "\n",
      "\n",
      " Directory of C:\\Users\\HP\\simplestats\\.git\n",
      "\n",
      "26/09/2024  10:37    <DIR>          ..\n",
      "26/09/2024  10:54               130 config\n",
      "26/09/2024  10:37                73 description\n",
      "26/09/2024  10:37                21 HEAD\n",
      "26/09/2024  10:37    <DIR>          hooks\n",
      "26/09/2024  10:37    <DIR>          info\n",
      "26/09/2024  10:37    <DIR>          objects\n",
      "26/09/2024  10:37    <DIR>          refs\n",
      "               3 File(s)            224 bytes\n",
      "               5 Dir(s)  113,264,189,440 bytes free\n"
     ]
    },
    {
     "name": "stderr",
     "output_type": "stream",
     "text": [
      "File Not Found\n"
     ]
    }
   ],
   "source": [
    "ls -A .git"
   ]
  },
  {
   "cell_type": "code",
   "execution_count": 47,
   "metadata": {},
   "outputs": [],
   "source": [
    "!cd .git"
   ]
  },
  {
   "cell_type": "code",
   "execution_count": 48,
   "metadata": {},
   "outputs": [
    {
     "name": "stdout",
     "output_type": "stream",
     "text": [
      " Volume in drive C has no label.\n",
      " Volume Serial Number is 543C-33FB\n",
      "\n",
      " Directory of C:\\Users\\HP\\simplestats\n",
      "\n"
     ]
    },
    {
     "name": "stderr",
     "output_type": "stream",
     "text": [
      "File Not Found\n"
     ]
    }
   ],
   "source": [
    "ls -A"
   ]
  },
  {
   "cell_type": "markdown",
   "metadata": {},
   "source": [
    "Step 3 : Use what you've learned. You may have noticed the file called description. You can describe your repository by opening the description file and replacing the text with a name for the repository.  We will be creating a module with some simple statistical methods, so mine will be called \"Some simple methods for statistical analysis\". You may call yours  anything you like.\n",
    "\n",
    "```bash\n",
    "$ nano description\n",
    "```"
   ]
  },
  {
   "cell_type": "code",
   "execution_count": null,
   "metadata": {},
   "outputs": [],
   "source": [
    "!notepad description"
   ]
  },
  {
   "cell_type": "markdown",
   "metadata": {},
   "source": [
    "You can use `!tree` or `tree` to display the directory structure in a tree-like format"
   ]
  },
  {
   "cell_type": "code",
   "execution_count": 5,
   "metadata": {},
   "outputs": [
    {
     "name": "stdout",
     "output_type": "stream",
     "text": [
      "Folder PATH listing\n",
      "Volume serial number is 543C-33FB\n",
      "C:.\n",
      "+---.ipynb_checkpoints\n",
      "+---simplestats\n"
     ]
    }
   ],
   "source": [
    "!tree"
   ]
  },
  {
   "cell_type": "markdown",
   "metadata": {
    "id": "8-rwgD5HbIdj"
   },
   "source": [
    "* * *  *\n",
    "An interesting command I would like you to test is `git status`, I will describe it later but let's see what it displays now.\n",
    "```bash\n",
    "$ git status\n",
    "On branch master\n",
    "\n",
    "No commits yet\n",
    "\n",
    "nothing to commit (create/copy files and use \"git add\" to track)\n",
    "```\n",
    "\n",
    "* * *  *\n"
   ]
  },
  {
   "cell_type": "code",
   "execution_count": 1,
   "metadata": {},
   "outputs": [
    {
     "name": "stdout",
     "output_type": "stream",
     "text": [
      "On branch main\n",
      "\n",
      "No commits yet\n",
      "\n",
      "Untracked files:\n",
      "  (use \"git add <file>...\" to include in what will be committed)\n",
      "\t../ICL/\n",
      "\t../MPS/\n",
      "\t../Nombres_heureux_demonstration.pdf\n",
      "\t../Presentation MPS team (Version 130).zip\n",
      "\t./\n",
      "\t../R/\n",
      "\t../RProject.Rmd\n",
      "\t../Soutenance_de_Master_2_en_Mathematiques.pdf\n",
      "\t../activite5.pdf\n",
      "\t../aims.png\n",
      "\t../beamerrrrrr.pdf\n",
      "\t../problem-solving1.pdf\n",
      "\t../qa.jpg\n",
      "\t../scripts_courses/\n",
      "\t../soft_hard/\n",
      "\n",
      "nothing added to commit but untracked files present (use \"git add\" to track)\n"
     ]
    }
   ],
   "source": [
    "!git status"
   ]
  },
  {
   "cell_type": "markdown",
   "metadata": {
    "id": "bdcfca76"
   },
   "source": [
    "## git add : Adding a File To Version Control\n",
    "\n",
    "For the git repository to know which files within this directory you\n",
    "would like to keep track of, you must add them. First, you'll need to\n",
    "create one, then we'll learn the **git add** command."
   ]
  },
  {
   "cell_type": "markdown",
   "metadata": {
    "id": "a6f520a2"
   },
   "source": [
    "* * * * \n",
    "### Practical : Add a File to Your Local Repository\n",
    "\n",
    "Step 1 : Create a file to add to your repository.\n",
    "\n",
    "```bash\n",
    "$ touch README.md\n",
    "```\n",
    "\n"
   ]
  },
  {
   "cell_type": "code",
   "execution_count": 10,
   "metadata": {},
   "outputs": [],
   "source": [
    "! type nul > README.md"
   ]
  },
  {
   "cell_type": "markdown",
   "metadata": {},
   "source": [
    "Step 2: Verify that git has seen the file.\n",
    "\n",
    "```bash\n",
    "$ git status\n",
    "# On branch master\n",
    "\n",
    "# No commits yet\n",
    "\n",
    "# Untracked files:\n",
    "#(use \"git add <file>...\" to include in what will be committed) README.md\n",
    "\n",
    "# nothing added to commit but untracked files present (use \"git add\" to track)\n",
    "```\n"
   ]
  },
  {
   "cell_type": "code",
   "execution_count": 11,
   "metadata": {},
   "outputs": [],
   "source": [
    "!git add README.md"
   ]
  },
  {
   "cell_type": "markdown",
   "metadata": {},
   "source": [
    "\n",
    "Step 3 : Inform git that you would like to keep track of future changes\n",
    "in this file.\n",
    "\n",
    "```bash\n",
    "$ git add README.md\n",
    "```"
   ]
  },
  {
   "cell_type": "markdown",
   "metadata": {
    "id": "31901d46"
   },
   "source": [
    "## git status : Checking the status of your local copy\n",
    "\n",
    "The files you've created on your machine are your local \"working\" copy.\n",
    "The changes your make in this local copy aren't backed up online\n",
    "automatically. Until you commit them, the changes you make are local\n",
    "changes. When you change anything, your set of files becomes different\n",
    "from the files in the official repository copy. To find out what's\n",
    "different about them in the terminal, try:\n",
    "\n",
    "```bash\n",
    "$ git status\n",
    "# On branch master\n",
    "#\n",
    "# No commits yet\n",
    "#\n",
    "# Changes to be committed:\n",
    "#   (use \"git rm --cached <file>...\" to unstage)\n",
    "#\n",
    "#       new file:   README.md\n",
    "#\n",
    "```\n",
    "\n",
    "The null result means that you're up to date with the current version of\n",
    "the repository online. This result indicates that the current difference\n",
    "between the repository HEAD (which, so far, is empty) and your\n",
    "`simplestats` directory is this new README.md file."
   ]
  },
  {
   "cell_type": "code",
   "execution_count": null,
   "metadata": {},
   "outputs": [],
   "source": []
  },
  {
   "cell_type": "markdown",
   "metadata": {
    "id": "5c0466af"
   },
   "source": [
    "## git commit : Saving a snapshot\n",
    "\n",
    "In order to save a snapshot of the current state (revision) of the\n",
    "repository, we use the commit command. This command is always associated\n",
    "with a message describing the changes since the last commit and\n",
    "indicating their purpose. Informative commit messages will serve you\n",
    "well someday, so make a habit of never committing changes without at\n",
    "least a full sentence description.\n",
    "\n",
    "**ADVICE: Commit often**\n",
    "\n",
    "In the same way that it is wise to often save a document that you are\n",
    "working on, so too is it wise to save numerous revisions of your code.\n",
    "More frequent commits increase the granularity of your **undo** button.\n",
    "\n",
    "**ADVICE: Good commit messages**\n",
    "\n",
    "There are no hard and fast rules, but good commits are atomic: they are the smallest change that remain meaningful. A good commit message usually contains a one-line description followed by a longer explanation if necessary.\n"
   ]
  },
  {
   "cell_type": "markdown",
   "metadata": {
    "id": "ad25127c"
   },
   "source": [
    "* * * \n",
    "### Practical : Commit Your Changes\n",
    "\n",
    "Step 1 : Commit the file you've added to your repository.\n",
    "\n",
    "```bash\n",
    "$ git commit -am \"This is the first commit. It adds a readme file.\"\n",
    "  [master (root-commit) 664867c] This is the first commit. It adds a readme file.\n",
    "  1 file changed, 0 insertions(+), 0 deletions(-)\n",
    "  create mode 100644 readme.md\n",
    "```  "
   ]
  },
  {
   "cell_type": "code",
   "execution_count": 12,
   "metadata": {},
   "outputs": [
    {
     "name": "stdout",
     "output_type": "stream",
     "text": [
      "[main (root-commit) eaebce9] This is the first commit. It adds a readme file.\n",
      " 1 file changed, 0 insertions(+), 0 deletions(-)\n",
      " create mode 100644 Python_Program/README.md\n"
     ]
    }
   ],
   "source": [
    "! git commit -am \"This is the first commit. It adds a readme file.\""
   ]
  },
  {
   "cell_type": "markdown",
   "metadata": {},
   "source": [
    "Step 2 : Admire your work.\n",
    "\n",
    "```bash\n",
    "$ git status\n",
    "# On branch master\n",
    "nothing to commit, working tree clean\n",
    "```"
   ]
  },
  {
   "cell_type": "code",
   "execution_count": 13,
   "metadata": {},
   "outputs": [
    {
     "name": "stdout",
     "output_type": "stream",
     "text": [
      "On branch main\n",
      "Untracked files:\n",
      "  (use \"git add <file>...\" to include in what will be committed)\n",
      "\t../ICL/\n",
      "\t../MPS/\n",
      "\t../Nombres_heureux_demonstration.pdf\n",
      "\t../Presentation MPS team (Version 130).zip\n",
      "\t.ipynb_checkpoints/\n",
      "\tPractical_1.ipynb\n",
      "\tUntitled.ipynb\n",
      "\tchristophe.hounwanou-day01-more-report.ipynb\n",
      "\tchristophe.hounwanou-day01-report.ipynb\n",
      "\tchristophe.hounwanou-day02-report.ipynb\n",
      "\tchristophe.hounwanou-day03-report.ipynb\n",
      "\tclassification.ipynb\n",
      "\tlab_0.ipynb\n",
      "\tlogo_aims.jpg\n",
      "\tsimplestats/\n",
      "\t../R/\n",
      "\t../RProject.Rmd\n",
      "\t../Soutenance_de_Master_2_en_Mathematiques.pdf\n",
      "\t../activite5.pdf\n",
      "\t../aims.png\n",
      "\t../beamerrrrrr.pdf\n",
      "\t../problem-solving1.pdf\n",
      "\t../qa.jpg\n",
      "\t../scripts_courses/\n",
      "\t../soft_hard/\n",
      "\n",
      "nothing added to commit but untracked files present (use \"git add\" to track)\n"
     ]
    }
   ],
   "source": [
    "! git status"
   ]
  },
  {
   "cell_type": "markdown",
   "metadata": {
    "id": "46cbed6f"
   },
   "source": [
    "## git diff : Viewing the Differences\n",
    "\n",
    "There are many diff tools.\n",
    "\n",
    "If you have a favorite you can set your default git diff tool to execute that one. Git, however, comes with its own diff system.\n",
    "\n",
    "Let's recall the behavior of the linux [`diff`](https://www.geeksforgeeks.org/diff-command-linux-examples/) command on the command line. The equivalent command for windows is [fc](https://www.howtogeek.com/206123/how-to-use-fc-file-compare-from-the-windows-command-prompt/). Choosing two files that are similar, the command:\n",
    "\n",
    "```bash\n",
    "$!diff file1 file2\n",
    "```\n",
    "\n",
    "will output the lines that differ between the two files. This information can be saved as what's known as a patch, but we won't go deeply into that just now.\n"
   ]
  },
  {
   "cell_type": "markdown",
   "metadata": {},
   "source": [
    "The only difference between the command line diff tool and git's diff tool is that the git tool is aware of all of the revisions in your repository, allowing each revision of each file to be treated as a full file.\n",
    "\n",
    "\n",
    "Thus, git diff will output the changes in your working directory that are not yet staged for a commit. To see how this works, make a change in your `README.md` file, but don't yet commit it.\n",
    "\n",
    "```bash\n",
    "$ git diff\n",
    "```"
   ]
  },
  {
   "cell_type": "code",
   "execution_count": 14,
   "metadata": {},
   "outputs": [],
   "source": [
    "! git diff"
   ]
  },
  {
   "cell_type": "markdown",
   "metadata": {},
   "source": [
    "A summarized version of this output can be output with the `--stat` flag :\n",
    "\n",
    "```bash\n",
    "$ git diff --stat\n",
    "```"
   ]
  },
  {
   "cell_type": "markdown",
   "metadata": {},
   "source": [
    "To see only the differences in a certain path, try:\n",
    "\n",
    "```bash\n",
    "$ git diff HEAD -- [path]\n",
    "```"
   ]
  },
  {
   "cell_type": "code",
   "execution_count": 15,
   "metadata": {},
   "outputs": [],
   "source": [
    "! git diff --stat"
   ]
  },
  {
   "cell_type": "markdown",
   "metadata": {},
   "source": [
    "To see what IS staged for commit (that is, what will be committed if you\n",
    "type git commit without the -a flag), you can try :\n",
    "```bash\n",
    "$ git diff --cached\n",
    "```"
   ]
  },
  {
   "cell_type": "code",
   "execution_count": 16,
   "metadata": {},
   "outputs": [],
   "source": [
    "! git diff --cached"
   ]
  },
  {
   "cell_type": "markdown",
   "metadata": {
    "id": "181eb736"
   },
   "source": [
    "## git log : Viewing the History\n",
    "\n",
    "A log of the commit messages is kept by the repository and can be\n",
    "reviewed with the log command.\n",
    "\n",
    "```bash\n",
    "    $ git log       \n",
    "   commit 664867c42a05461702388310155b785a287d0308 (HEAD -> master)\n",
    "    Author: Techni Preneurs <ai.technipreneurs@gmail.com>\n",
    "    Date:   Wed Sep 11 20:31:07 2024 +0200\n",
    "\n",
    "        This is the first commit. It adds a readme file.    \n",
    "```\n"
   ]
  },
  {
   "cell_type": "code",
   "execution_count": 17,
   "metadata": {},
   "outputs": [
    {
     "name": "stdout",
     "output_type": "stream",
     "text": [
      "commit eaebce9b36bfb979aad8ac0057046205db3c1820\n",
      "Author: Christophe HOUNWANOU <christophe.hounwanou@aims.ac.rw>\n",
      "Date:   Thu Sep 26 21:37:25 2024 +0100\n",
      "\n",
      "    This is the first commit. It adds a readme file.\n"
     ]
    }
   ],
   "source": [
    "! git log "
   ]
  },
  {
   "cell_type": "markdown",
   "metadata": {},
   "source": [
    "There are some useful flags for this command, such as\n",
    "\n",
    "    -p\n",
    "    -3\n",
    "    --stat\n",
    "    --oneline\n",
    "    --graph\n",
    "    --pretty=short/full/fuller/oneline\n",
    "    --since=X.minutes/hours/days/weeks/months/years or YY-MM-DD-HH:MM\n",
    "    --until=X.minutes/hours/days/weeks/months/years or YY-MM-DD-HH:MM\n",
    "    --author=<pattern>"
   ]
  },
  {
   "cell_type": "markdown",
   "metadata": {
    "id": "8f0edce4"
   },
   "source": [
    "## git reset : Unstaging a staged file\n",
    "\n",
    "There are a number of ways that you may accidentally stage a file that\n",
    "you don't want to commit.  Create a file called `temp_notes` that\n",
    "describes what you had for breakfast, and then add that file to your\n",
    "repo.  Check with `status` to see that it is added but not committed.\n",
    "\n",
    "You can now unstage that file with:\n",
    "\n",
    "```bash\n",
    "$ git reset temp_notes\n",
    "```\n",
    "\n",
    "Check with `status`."
   ]
  },
  {
   "cell_type": "code",
   "execution_count": 19,
   "metadata": {},
   "outputs": [
    {
     "name": "stdout",
     "output_type": "stream",
     "text": [
      "On branch main\n",
      "Untracked files:\n",
      "  (use \"git add <file>...\" to include in what will be committed)\n",
      "\t../ICL/\n",
      "\t../MPS/\n",
      "\t../Nombres_heureux_demonstration.pdf\n",
      "\t../Presentation MPS team (Version 130).zip\n",
      "\t.ipynb_checkpoints/\n",
      "\tPractical_1.ipynb\n",
      "\tUntitled.ipynb\n",
      "\tchristophe.hounwanou-day01-more-report.ipynb\n",
      "\tchristophe.hounwanou-day01-report.ipynb\n",
      "\tchristophe.hounwanou-day02-report.ipynb\n",
      "\tchristophe.hounwanou-day03-report.ipynb\n",
      "\tclassification.ipynb\n",
      "\tlab_0.ipynb\n",
      "\tlogo_aims.jpg\n",
      "\tsimplestats/\n",
      "\t../R/\n",
      "\t../RProject.Rmd\n",
      "\t../Soutenance_de_Master_2_en_Mathematiques.pdf\n",
      "\t../activite5.pdf\n",
      "\t../aims.png\n",
      "\t../beamerrrrrr.pdf\n",
      "\t../problem-solving1.pdf\n",
      "\t../qa.jpg\n",
      "\t../scripts_courses/\n",
      "\t../soft_hard/\n",
      "\n",
      "nothing added to commit but untracked files present (use \"git add\" to track)\n"
     ]
    }
   ],
   "source": [
    "! git status"
   ]
  },
  {
   "cell_type": "markdown",
   "metadata": {
    "id": "f949535f"
   },
   "source": [
    "## git checkout : Discarding unstaged modifications (git checkout has other purposes)\n",
    "\n",
    "Perhaps you have made a number of changes that you realize are not\n",
    "going anywhere.  Add a line to `README.md` that describes your dinner\n",
    "last night.  Check with `status` to see that the file is changed and\n",
    "ready to be added.\n",
    "\n",
    "You can now return to previous checked in version with:\n",
    "```bash\n",
    "$ git checkout -- README.md\n",
    "```\n",
    "Check with `status` and take a look at the file."
   ]
  },
  {
   "cell_type": "code",
   "execution_count": 20,
   "metadata": {},
   "outputs": [],
   "source": [
    "! git checkout -- README.md"
   ]
  },
  {
   "cell_type": "markdown",
   "metadata": {
    "id": "7b00e29e"
   },
   "source": [
    "## git rm : Removing files\n",
    "\n",
    "There are a variety of reasons you way want to remove a file from the\n",
    "repository after it has been committed.  Create a file called `READYOU.md` with the first names of all your immediate family members, and add/commit it to the repository.\n",
    "\n",
    "You can now remove the file from the repository with:\n",
    "\n",
    "```bash\n",
    "$ git rm READYOU.md\n",
    "```\n",
    "List the directory to see that you have no file named `READYOU.md`. Use `status` to determine if you need any additional steps."
   ]
  },
  {
   "cell_type": "code",
   "execution_count": 21,
   "metadata": {},
   "outputs": [
    {
     "name": "stderr",
     "output_type": "stream",
     "text": [
      "fatal: pathspec 'READYOU.md' did not match any files\n"
     ]
    }
   ],
   "source": [
    "! git rm READYOU.md"
   ]
  },
  {
   "cell_type": "markdown",
   "metadata": {},
   "source": [
    "What if you delete a file in the shell without `git rm`? Try deleting `README.md`\n",
    "```bash\n",
    "$ rm README.md\n",
    "```\n",
    "\n",
    "\n"
   ]
  },
  {
   "cell_type": "markdown",
   "metadata": {},
   "source": [
    "What does `git status` say?  Oops! How can you recover this important\n",
    "file?\n",
    "```bash\n",
    "$ git checkout -- README.md\n",
    "```"
   ]
  },
  {
   "cell_type": "code",
   "execution_count": null,
   "metadata": {},
   "outputs": [],
   "source": []
  },
  {
   "cell_type": "markdown",
   "metadata": {
    "id": "1d3ecc05"
   },
   "source": [
    "## git revert : the promised \"undo\" button\n",
    "\n",
    "It is possible that after many commits, you decide that you really want to **rollback** a set of commits and start over.  It is easy to revert your code to a previous version.\n",
    "\n",
    "You can use `git log` and `git diff` to explore your history and determine which version you are interested in.  Choose a version and note the *hash* for that version. (Let's assume `abc456`)\n",
    "\n",
    "```bash\n",
    "$ git revert abc456\n",
    "```\n",
    "\n",
    "**Importantly,** this will not erase the intervening commits.  This will create a new commit that is changed from the previous commit by a change that will recreate the desired version.  This retains a complete provenance of your software, and be compared to the prohibition in removing pages from a lab notebook."
   ]
  },
  {
   "cell_type": "code",
   "execution_count": null,
   "metadata": {},
   "outputs": [],
   "source": []
  },
  {
   "cell_type": "markdown",
   "metadata": {},
   "source": [
    "## Visualize Git Log Tree\n",
    "For this section, you can read the necessary information [here](https://tech.serhatteker.com/post/2021-02/git-log-tree/). The idea is just to make your commits a bit fancy. To really see the beauty of it, try to play with your files and do quite a number of commits.\n",
    "\n",
    "```bash\n",
    "$ git log\n",
    "```\n",
    "\n",
    "or \n",
    "\n",
    "```bash\n",
    "$ git log --pretty=oneline\n",
    "```\n",
    "\n",
    "or\n",
    "\n",
    "```bash\n",
    "$ git log --graph --pretty='%Cred%h%Creset -%C(auto)%d%Creset %s %Cgreen(%cr) %C(bold blue)<%an>%Creset' --all\n",
    "```"
   ]
  },
  {
   "cell_type": "code",
   "execution_count": null,
   "metadata": {},
   "outputs": [],
   "source": []
  },
  {
   "cell_type": "markdown",
   "metadata": {
    "id": "a60621d6"
   },
   "source": [
    "* * * *\n",
    "### Exercise :\n",
    "\n",
    "1. Create 5 files in your directory with one line of content in each\n",
    "   file.\n",
    "2. Commit the files to the repository.\n",
    "3. Change 2 of the 5 files and commit them.\n",
    "4. Undo the changes in step 3.\n",
    "5. Print out the last entry in the log.\n",
    "    \n",
    "* * * *"
   ]
  },
  {
   "cell_type": "code",
   "execution_count": 23,
   "metadata": {},
   "outputs": [],
   "source": [
    "\n",
    "!echo \"This is file 1\" > file1.txt\n",
    "!echo \"This is file 2\" > file2.txt\n",
    "!echo \"This is file 3\" > file3.txt\n",
    "!echo \"This is file 4\" > file4.txt\n",
    "!echo \"This is file 5\" > file5.txt\n"
   ]
  },
  {
   "cell_type": "code",
   "execution_count": 24,
   "metadata": {},
   "outputs": [
    {
     "name": "stdout",
     "output_type": "stream",
     "text": [
      "Initialized empty Git repository in C:/Users/HP/Desktop/AIMS/Python_Program/.git/\n"
     ]
    }
   ],
   "source": [
    "!git init"
   ]
  },
  {
   "cell_type": "code",
   "execution_count": 26,
   "metadata": {},
   "outputs": [],
   "source": [
    "!git add file1.txt file2.txt file3.txt file4.txt file5.txt"
   ]
  },
  {
   "cell_type": "code",
   "execution_count": 27,
   "metadata": {},
   "outputs": [
    {
     "name": "stdout",
     "output_type": "stream",
     "text": [
      "[main (root-commit) b7d4713] Add 5 files with one line of content each\n",
      " 5 files changed, 5 insertions(+)\n",
      " create mode 100644 file1.txt\n",
      " create mode 100644 file2.txt\n",
      " create mode 100644 file3.txt\n",
      " create mode 100644 file4.txt\n",
      " create mode 100644 file5.txt\n"
     ]
    }
   ],
   "source": [
    "!git commit -m \"Add 5 files with one line of content each\""
   ]
  },
  {
   "cell_type": "code",
   "execution_count": 28,
   "metadata": {},
   "outputs": [],
   "source": [
    "!echo \"This is the updated content for file 1\" > file1.txt\n",
    "!echo \"This is the updated content for file 2\" > file2.txt"
   ]
  },
  {
   "cell_type": "code",
   "execution_count": 29,
   "metadata": {},
   "outputs": [],
   "source": [
    "!git add file1.txt file2.txt"
   ]
  },
  {
   "cell_type": "code",
   "execution_count": 30,
   "metadata": {},
   "outputs": [
    {
     "name": "stdout",
     "output_type": "stream",
     "text": [
      "[main bb24cbd] Update content in file1.txt and file2.txt\n",
      " 2 files changed, 2 insertions(+), 2 deletions(-)\n"
     ]
    }
   ],
   "source": [
    "!git commit -m \"Update content in file1.txt and file2.txt\""
   ]
  },
  {
   "cell_type": "code",
   "execution_count": 31,
   "metadata": {},
   "outputs": [
    {
     "name": "stderr",
     "output_type": "stream",
     "text": [
      "Updated 2 paths from e54fa2c\n"
     ]
    }
   ],
   "source": [
    "!git checkout HEAD~1 file1.txt file2.txt"
   ]
  },
  {
   "cell_type": "code",
   "execution_count": 32,
   "metadata": {},
   "outputs": [
    {
     "name": "stdout",
     "output_type": "stream",
     "text": [
      "[main 119613e] Revert changes in file1.txt and file2.txt\n",
      " 2 files changed, 2 insertions(+), 2 deletions(-)\n"
     ]
    }
   ],
   "source": [
    "!git commit -m \"Revert changes in file1.txt and file2.txt\""
   ]
  },
  {
   "cell_type": "code",
   "execution_count": 33,
   "metadata": {},
   "outputs": [
    {
     "name": "stdout",
     "output_type": "stream",
     "text": [
      "commit 119613e15711d8b470516c2dd2c44fe2d3d296a1\n",
      "Author: Christophe HOUNWANOU <christophe.hounwanou@aims.ac.rw>\n",
      "Date:   Thu Sep 26 22:03:16 2024 +0100\n",
      "\n",
      "    Revert changes in file1.txt and file2.txt\n"
     ]
    }
   ],
   "source": [
    "!git log -1"
   ]
  },
  {
   "cell_type": "code",
   "execution_count": null,
   "metadata": {},
   "outputs": [],
   "source": []
  },
  {
   "cell_type": "markdown",
   "metadata": {
    "id": "15b9e659"
   },
   "source": [
    "## Resources\n",
    "\n",
    "1. [git book](http://git-scm.com/book) - Free and Open"
   ]
  }
 ],
 "metadata": {
  "colab": {
   "provenance": []
  },
  "kernelspec": {
   "display_name": "Python 3 (ipykernel)",
   "language": "python",
   "name": "python3"
  },
  "language_info": {
   "codemirror_mode": {
    "name": "ipython",
    "version": 3
   },
   "file_extension": ".py",
   "mimetype": "text/x-python",
   "name": "python",
   "nbconvert_exporter": "python",
   "pygments_lexer": "ipython3",
   "version": "3.12.3"
  }
 },
 "nbformat": 4,
 "nbformat_minor": 4
}
