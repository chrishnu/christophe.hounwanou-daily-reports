{
 "cells": [
  {
   "cell_type": "markdown",
   "id": "2512dfd6-551c-47aa-8c00-427a50e5d4f9",
   "metadata": {},
   "source": [
    "# PyPro: challenge 1 \n",
    "\n",
    "### This challenge is due on Sunday 29th September 2024 at 8pm.\n",
    "\n",
    "`These exercises provide a wide range of challenges that test your understanding of Python's core concepts, such as control structures, data types, string manipulations, list comprehensions, and higher-order functions.`\n",
    "\n",
    "\n",
    "#### Basic Tasks\n",
    "\n",
    "1. Create a function `find_max()` that accepts two numeric inputs and returns the greater value. Avoid using the built-in `max()` function."
   ]
  },
  {
   "cell_type": "code",
   "execution_count": 2,
   "id": "1cd8fcaa-2b36-4076-9c3b-eececce14d49",
   "metadata": {},
   "outputs": [
    {
     "name": "stdout",
     "output_type": "stream",
     "text": [
      "The greater value between 1 and 2 is 2.\n"
     ]
    }
   ],
   "source": [
    "def find_max(x, y):\n",
    "    if x < y:\n",
    "        return y\n",
    "    else:\n",
    "        return x\n",
    "x = 1\n",
    "y = 2\n",
    "\n",
    "print(f\"The greater value between {x} and {y} is {find_max(x,y)}.\")"
   ]
  },
  {
   "cell_type": "markdown",
   "id": "a30b29ff-f93b-4966-945f-edf71bb98974",
   "metadata": {},
   "source": [
    "2. Develop a function `find_max_of_three()` to find the maximum among three given numbers."
   ]
  },
  {
   "cell_type": "code",
   "execution_count": 10,
   "id": "26ff36b3-b431-4409-aa2e-9bc45b887239",
   "metadata": {},
   "outputs": [
    {
     "name": "stdout",
     "output_type": "stream",
     "text": [
      "The maximum between 1, 2 and 5 is 5.\n"
     ]
    }
   ],
   "source": [
    "def find_max_three(x,y,z):\n",
    "    if find_max(x,y) < z:\n",
    "        return z\n",
    "    else:\n",
    "        return find_max(x,y)\n",
    "\n",
    "x = 1 \n",
    "y = 2\n",
    "z = 5\n",
    "\n",
    "print(f\"The maximum between {x}, {y} and {z} is {find_max_three(x,y,z)}.\")"
   ]
  },
  {
   "cell_type": "markdown",
   "id": "0a28401e-9209-4b5d-b66b-ab59fb589a72",
   "metadata": {},
   "source": [
    "3. Write a function to manually calculate the length of a given list or string without using `len()`."
   ]
  },
  {
   "cell_type": "code",
   "execution_count": 8,
   "id": "2606f008-2390-4609-b586-b2b8c0d756a2",
   "metadata": {},
   "outputs": [
    {
     "name": "stdout",
     "output_type": "stream",
     "text": [
      "The lenght of the string [1, 4, 8, 0, 3] is 5.\n",
      "The lenght of the list Christophe HOUNWANOU is 20.\n"
     ]
    }
   ],
   "source": [
    "def calculate_len(s):\n",
    "    cpt = 0\n",
    "    for i in s:\n",
    "        cpt+=1\n",
    "    return cpt\n",
    "\n",
    "s1 = [1, 4, 8, 0, 3]\n",
    "\n",
    "s2 = \"Christophe HOUNWANOU\"\n",
    "\n",
    "print(f\"The lenght of the string {s1} is {calculate_len(s1)}.\")\n",
    "print(f\"The lenght of the list {s2} is {calculate_len(s2)}.\")"
   ]
  },
  {
   "cell_type": "markdown",
   "id": "40db4812-0af3-4fe6-a23f-06805a869b72",
   "metadata": {},
   "source": [
    "4. Implement a function that checks if a given character is a vowel (a, e, i, o, u)."
   ]
  },
  {
   "cell_type": "code",
   "execution_count": 23,
   "id": "7cd9c593-5ec2-468f-84d5-cce1268af49f",
   "metadata": {},
   "outputs": [
    {
     "name": "stdin",
     "output_type": "stream",
     "text": [
      "Enter your character:  z\n"
     ]
    },
    {
     "data": {
      "text/plain": [
       "False"
      ]
     },
     "execution_count": 23,
     "metadata": {},
     "output_type": "execute_result"
    }
   ],
   "source": [
    "def check_vowel(charact):\n",
    "    L = {'a', 'e', 'i', 'o', 'u', 'A', 'E', 'I', 'O', 'U'}\n",
    "    return charact in L\n",
    "\n",
    "charact = input(\"Enter your character: \")\n",
    "check_vowel(charact)"
   ]
  },
  {
   "cell_type": "markdown",
   "id": "7631617c-6ac5-4be2-a52a-a66d7bb8d1d8",
   "metadata": {},
   "source": [
    "5. Write a function `encode()` that converts a string into \"rövarspråket\" ([robber's language](https://en.wikipedia.org/wiki/R%C3%B6varspr%C3%A5ket)) by doubling consonants and placing \"o\" in between, e.g., \"hello\" -> \"hohelollolo\".\n"
   ]
  },
  {
   "cell_type": "code",
   "execution_count": 24,
   "id": "fb0bae11-3b33-46f3-b1da-39150e07b701",
   "metadata": {},
   "outputs": [
    {
     "data": {
      "text/plain": [
       "'hohelollolo'"
      ]
     },
     "execution_count": 24,
     "metadata": {},
     "output_type": "execute_result"
    }
   ],
   "source": [
    "def encode(s):\n",
    "    result = \"\"\n",
    "    for char in s:\n",
    "        if not check_vowel(char) and char.isalpha():  # if consonant\n",
    "            result += char + 'o' + char\n",
    "        else:\n",
    "            result += char\n",
    "    return result\n",
    "encode('hello')  "
   ]
  },
  {
   "cell_type": "markdown",
   "id": "d1f83cac-4a3a-49d9-8575-0b25c38bfa0c",
   "metadata": {},
   "source": [
    "6. Create sum_elements() and product_elements() functions to sum and multiply all elements in a list, respectively."
   ]
  },
  {
   "cell_type": "code",
   "execution_count": 25,
   "id": "44ef5bdb-dd62-483f-8e47-a30b2e526db9",
   "metadata": {},
   "outputs": [
    {
     "data": {
      "text/plain": [
       "15"
      ]
     },
     "execution_count": 25,
     "metadata": {},
     "output_type": "execute_result"
    }
   ],
   "source": [
    "def sum_elements(lst):\n",
    "    total = 0\n",
    "    for elem in lst:\n",
    "        total += elem\n",
    "    return total\n",
    "\n",
    "result = sum_elements([1, 2, 3, 4, 5])\n",
    "result"
   ]
  },
  {
   "cell_type": "code",
   "execution_count": 27,
   "id": "981fcc91-ce7f-44a5-8489-a39081c0061d",
   "metadata": {},
   "outputs": [
    {
     "data": {
      "text/plain": [
       "120"
      ]
     },
     "execution_count": 27,
     "metadata": {},
     "output_type": "execute_result"
    }
   ],
   "source": [
    "def product_elements(lst):\n",
    "    product = 1\n",
    "    for elem in lst:\n",
    "        product *= elem\n",
    "    return product\n",
    "result = product_elements([1, 2, 3, 4, 5])\n",
    "result"
   ]
  },
  {
   "cell_type": "markdown",
   "id": "5c37cb62-c513-4e1a-acff-09dc4eed8f20",
   "metadata": {},
   "source": [
    "7. Define a function `reverse_string()` to reverse the characters in a given string."
   ]
  },
  {
   "cell_type": "code",
   "execution_count": 30,
   "id": "2fb624c1-3655-4473-9ee6-9b77add53a6e",
   "metadata": {},
   "outputs": [
    {
     "name": "stdout",
     "output_type": "stream",
     "text": [
      "sirhC sius eJ\n"
     ]
    }
   ],
   "source": [
    "def reverse_string(s):\n",
    "    return s[::-1]\n",
    "\n",
    "s= \"Je suis Chris\"\n",
    "print(reverse_string(s))"
   ]
  },
  {
   "cell_type": "markdown",
   "id": "7e213c14-d226-42bf-83bf-e751ce537032",
   "metadata": {},
   "source": [
    "8. Implement `check_palindrome()` to verify if a string reads the same forwards and backwards, i.e. is a [palindrome](https://en.wikipedia.org/wiki/Palindrome)."
   ]
  },
  {
   "cell_type": "code",
   "execution_count": 33,
   "id": "5e0fbf90-b5f3-49a4-8d0e-b673e2b64681",
   "metadata": {},
   "outputs": [
    {
     "data": {
      "text/plain": [
       "True"
      ]
     },
     "execution_count": 33,
     "metadata": {},
     "output_type": "execute_result"
    }
   ],
   "source": [
    "def check_palindrome(s):\n",
    "    return s == reverse_string(s)\n",
    "\n",
    "x = \"elle\"\n",
    "check_palindrome(x)"
   ]
  },
  {
   "cell_type": "markdown",
   "id": "41484fba-3b38-4757-84a8-c7c1694961fe",
   "metadata": {},
   "source": [
    "9. Develop a function `check_membership()` to determine if a value exists within a list."
   ]
  },
  {
   "cell_type": "code",
   "execution_count": 14,
   "id": "21fef854-d475-4878-a781-373952097952",
   "metadata": {},
   "outputs": [
    {
     "data": {
      "text/plain": [
       "True"
      ]
     },
     "execution_count": 14,
     "metadata": {},
     "output_type": "execute_result"
    }
   ],
   "source": [
    "def check_membership(val):\n",
    "    L = []\n",
    "    for i in range(100):\n",
    "        L.append(i)\n",
    "    if val in L:\n",
    "        return True\n",
    "    else:\n",
    "        return False\n",
    "\n",
    "check_membership(99)"
   ]
  },
  {
   "cell_type": "markdown",
   "id": "71b79541-4cc3-4b6f-92e4-61c01e36db56",
   "metadata": {},
   "source": [
    "10. Write `check_overlap()` to identify if two lists share any elements."
   ]
  },
  {
   "cell_type": "code",
   "execution_count": 15,
   "id": "171b7827-7300-4f38-821f-3c747ad21638",
   "metadata": {},
   "outputs": [
    {
     "data": {
      "text/plain": [
       "False"
      ]
     },
     "execution_count": 15,
     "metadata": {},
     "output_type": "execute_result"
    }
   ],
   "source": [
    "def check_overlap(lst1, lst2):\n",
    "    for elem in lst1:\n",
    "        if elem in lst2:\n",
    "            return True\n",
    "    return False\n",
    "check_overlap()"
   ]
  },
  {
   "cell_type": "markdown",
   "id": "92b49a30-5ab7-4bb3-a3e9-92d6a97510b6",
   "metadata": {},
   "source": [
    "11. Implement `repeat_char()` that generates a string with a specified character repeated `n` times."
   ]
  },
  {
   "cell_type": "code",
   "execution_count": 38,
   "id": "19ba6307-b4f7-4aa8-8b27-87f328ac5750",
   "metadata": {},
   "outputs": [
    {
     "data": {
      "text/plain": [
       "'##################################################'"
      ]
     },
     "execution_count": 38,
     "metadata": {},
     "output_type": "execute_result"
    }
   ],
   "source": [
    "def repeat_char(char, n):\n",
    "    return char * n\n",
    "    \n",
    "repeat_char('#', 50)"
   ]
  },
  {
   "cell_type": "markdown",
   "id": "74d88f56-21d7-443d-abd4-e858439c85f2",
   "metadata": {},
   "source": [
    "\n",
    "12. Create a function `print_histogram()` that takes a list of integers and prints a corresponding histogram.\n"
   ]
  },
  {
   "cell_type": "code",
   "execution_count": 40,
   "id": "17a8fcfc-d304-4c71-abca-14dc5a2ea184",
   "metadata": {},
   "outputs": [
    {
     "name": "stdout",
     "output_type": "stream",
     "text": [
      "*\n",
      "**\n",
      "***\n",
      "****\n",
      "*****\n",
      "*********\n",
      "*******\n",
      "***\n",
      "**********\n"
     ]
    }
   ],
   "source": [
    "def print_histogram(lst):\n",
    "    for num in lst:\n",
    "        print('*' * num)\n",
    "\n",
    "print_histogram([1, 2, 3,4, 5, 9, 7, 3, 10])\n"
   ]
  },
  {
   "cell_type": "markdown",
   "id": "61ee12ea-558f-41be-a7e7-02ab494a4152",
   "metadata": {},
   "source": [
    "13. Write `find_max_in_list()` to identify the largest number in a list of arbitrary length."
   ]
  },
  {
   "cell_type": "code",
   "execution_count": 41,
   "id": "dfaf4bb2-90dc-45de-a7ef-f822bf9ad6c7",
   "metadata": {},
   "outputs": [
    {
     "name": "stdout",
     "output_type": "stream",
     "text": [
      "67\n"
     ]
    }
   ],
   "source": [
    "def find_max_in_list(lst):\n",
    "    if not lst: \n",
    "        return None  \n",
    "    max_value = lst[0]\n",
    "    for num in lst:\n",
    "        if num > max_value:\n",
    "            max_value = num\n",
    "    return max_value\n",
    "\n",
    "num = find_max_in_list([20, 6, 4, 0, 67, 64, 5, 8])\n",
    "print(num) "
   ]
  },
  {
   "cell_type": "markdown",
   "id": "7a4b1aff-0f9f-4027-a71b-9d6b4fc8cb8b",
   "metadata": {},
   "source": [
    "14. Create a program that maps each word in a list to its length."
   ]
  },
  {
   "cell_type": "code",
   "execution_count": 71,
   "id": "e41341d3-1094-4066-a8af-6eaeb12e60d3",
   "metadata": {},
   "outputs": [
    {
     "name": "stdout",
     "output_type": "stream",
     "text": [
      "{'apple': 5, 'banana': 6, 'cherry': 6, 'orange': 6}\n"
     ]
    }
   ],
   "source": [
    "def map_words_to_length(words):\n",
    "    word_length_mapping = {}\n",
    "    for word in words:\n",
    "        word_length_mapping[word] = len(word)\n",
    "    return word_length_mapping\n",
    "\n",
    "words = [\"apple\", \"banana\", \"cherry\", \"orange\"]\n",
    "w_map = map_words_to_length(words)\n",
    "\n",
    "print(w_map)"
   ]
  },
  {
   "cell_type": "markdown",
   "id": "578e3877-639f-4e9d-b364-fb8200a512ad",
   "metadata": {},
   "source": [
    "\n",
    "15. Implement `longest_word()` to find the longest word in a list."
   ]
  },
  {
   "cell_type": "code",
   "execution_count": 44,
   "id": "24aedff5-d5b1-4478-8845-0e630c389741",
   "metadata": {},
   "outputs": [
    {
     "name": "stdout",
     "output_type": "stream",
     "text": [
      "banana\n"
     ]
    }
   ],
   "source": [
    "def longest_word(words):\n",
    "    if not words: \n",
    "        return None  \n",
    "    longest = words[0]\n",
    "    for word in words:\n",
    "        if len(word) > len(longest):\n",
    "            longest = word\n",
    "    return longest\n",
    "\n",
    "\n",
    "words = [\"apple\", \"banana\", \"cherry\", \"orange\"]\n",
    "longest = longest_word(words)\n",
    "print(longest) "
   ]
  },
  {
   "cell_type": "markdown",
   "id": "6ffa71b3-9bfa-4ed3-aac6-3aa3af726e80",
   "metadata": {},
   "source": [
    "\n",
    "16. Develop `filter_words()` to return words longer than a specified length from a list."
   ]
  },
  {
   "cell_type": "code",
   "execution_count": 51,
   "id": "9beb3aae-149a-46eb-8795-5aae02752d6a",
   "metadata": {},
   "outputs": [
    {
     "name": "stdout",
     "output_type": "stream",
     "text": [
      "['apple', 'banana', 'cherry', 'orange', 'pap']\n"
     ]
    }
   ],
   "source": [
    "def filter_words(words, min_len):\n",
    "    return [word for word in words if len(word) > min_len]\n",
    "\n",
    "words = [\"apple\", \"banana\", \"cherry\", \"orange\", \"pap\"]\n",
    "filtered_words = filter_words(words, 1)\n",
    "\n",
    "print(filtered_words)"
   ]
  },
  {
   "cell_type": "markdown",
   "id": "3d473170-e3e0-4d1a-8e75-738bdbf57ad3",
   "metadata": {},
   "source": [
    "17. Enhance the palindrome recognizer to handle phrases, ignoring spaces, punctuation, and case."
   ]
  },
  {
   "cell_type": "code",
   "execution_count": 52,
   "id": "3961dad6-527a-4291-9ed6-25a5663df5b4",
   "metadata": {},
   "outputs": [
    {
     "name": "stdout",
     "output_type": "stream",
     "text": [
      "True\n"
     ]
    }
   ],
   "source": [
    "import re\n",
    "\n",
    "def check_palindrome(phrase):\n",
    "    cleaned_phrase = re.sub(r'[^A-Za-z0-9]', '', phrase).lower()\n",
    "    return cleaned_phrase == cleaned_phrase[::-1]\n",
    "test_phrase = \"A man, a plan, a canal: Panama\"\n",
    "is_palindrome = check_palindrome(test_phrase)\n",
    "\n",
    "print(is_palindrome) "
   ]
  },
  {
   "cell_type": "markdown",
   "id": "058cdb38-6a4e-4468-8bbd-fdcfbdb92075",
   "metadata": {},
   "source": [
    "18. Implement a function that checks if a given sentence is a [pangram](https://en.wikipedia.org/wiki/Pangram)."
   ]
  },
  {
   "cell_type": "code",
   "execution_count": 53,
   "id": "c032a430-b4c0-4c44-b016-44325fd0cc00",
   "metadata": {},
   "outputs": [
    {
     "name": "stdout",
     "output_type": "stream",
     "text": [
      "False\n"
     ]
    }
   ],
   "source": [
    "def check_pangram(sentence):\n",
    "    alphabet_set = set('abcdefghijklmnopqrstuvwxyz')\n",
    "    \n",
    "    found_letters = set(char.lower() for char in sentence if char.isalpha())\n",
    "    return alphabet_set.issubset(found_letters)\n",
    "\n",
    "test_sentence = \"They are students of AIMS Rwanda\"\n",
    "is_pangram = check_pangram(test_sentence)\n",
    "\n",
    "print(is_pangram) \n"
   ]
  },
  {
   "cell_type": "markdown",
   "id": "405597d8-003e-40c4-8c95-00a236f4c8a5",
   "metadata": {},
   "source": [
    "\n",
    "19. Write a function that generates verses for the \"99 Bottles of Beer\" song."
   ]
  },
  {
   "cell_type": "code",
   "execution_count": 54,
   "id": "a97175ba-1030-4ec5-83a2-d4886a8975bb",
   "metadata": {},
   "outputs": [
    {
     "name": "stdout",
     "output_type": "stream",
     "text": [
      "99 bottles of beer on the wall, 99 bottles of beer.\n",
      "Take one down and pass it around, 98 bottles of beer on the wall.\n",
      "\n",
      "98 bottles of beer on the wall, 98 bottles of beer.\n",
      "Take one down and pass it around, 97 bottles of beer on the wall.\n",
      "\n",
      "97 bottles of beer on the wall, 97 bottles of beer.\n",
      "Take one down and pass it around, 96 bottles of beer on the wall.\n",
      "\n",
      "96 bottles of beer on the wall, 96 bottles of beer.\n",
      "Take one down and pass it around, 95 bottles of beer on the wall.\n",
      "\n",
      "95 bottles of beer on the wall, 95 bottles of beer.\n",
      "Take one down and pass it around, 94 bottles of beer on the wall.\n",
      "\n",
      "94 bottles of beer on the wall, 94 bottles of beer.\n",
      "Take one down and pass it around, 93 bottles of beer on the wall.\n",
      "\n",
      "93 bottles of beer on the wall, 93 bottles of beer.\n",
      "Take one down and pass it around, 92 bottles of beer on the wall.\n",
      "\n",
      "92 bottles of beer on the wall, 92 bottles of beer.\n",
      "Take one down and pass it around, 91 bottles of beer on the wall.\n",
      "\n",
      "91 bottles of beer on the wall, 91 bottles of beer.\n",
      "Take one down and pass it around, 90 bottles of beer on the wall.\n",
      "\n",
      "90 bottles of beer on the wall, 90 bottles of beer.\n",
      "Take one down and pass it around, 89 bottles of beer on the wall.\n",
      "\n",
      "89 bottles of beer on the wall, 89 bottles of beer.\n",
      "Take one down and pass it around, 88 bottles of beer on the wall.\n",
      "\n",
      "88 bottles of beer on the wall, 88 bottles of beer.\n",
      "Take one down and pass it around, 87 bottles of beer on the wall.\n",
      "\n",
      "87 bottles of beer on the wall, 87 bottles of beer.\n",
      "Take one down and pass it around, 86 bottles of beer on the wall.\n",
      "\n",
      "86 bottles of beer on the wall, 86 bottles of beer.\n",
      "Take one down and pass it around, 85 bottles of beer on the wall.\n",
      "\n",
      "85 bottles of beer on the wall, 85 bottles of beer.\n",
      "Take one down and pass it around, 84 bottles of beer on the wall.\n",
      "\n",
      "84 bottles of beer on the wall, 84 bottles of beer.\n",
      "Take one down and pass it around, 83 bottles of beer on the wall.\n",
      "\n",
      "83 bottles of beer on the wall, 83 bottles of beer.\n",
      "Take one down and pass it around, 82 bottles of beer on the wall.\n",
      "\n",
      "82 bottles of beer on the wall, 82 bottles of beer.\n",
      "Take one down and pass it around, 81 bottles of beer on the wall.\n",
      "\n",
      "81 bottles of beer on the wall, 81 bottles of beer.\n",
      "Take one down and pass it around, 80 bottles of beer on the wall.\n",
      "\n",
      "80 bottles of beer on the wall, 80 bottles of beer.\n",
      "Take one down and pass it around, 79 bottles of beer on the wall.\n",
      "\n",
      "79 bottles of beer on the wall, 79 bottles of beer.\n",
      "Take one down and pass it around, 78 bottles of beer on the wall.\n",
      "\n",
      "78 bottles of beer on the wall, 78 bottles of beer.\n",
      "Take one down and pass it around, 77 bottles of beer on the wall.\n",
      "\n",
      "77 bottles of beer on the wall, 77 bottles of beer.\n",
      "Take one down and pass it around, 76 bottles of beer on the wall.\n",
      "\n",
      "76 bottles of beer on the wall, 76 bottles of beer.\n",
      "Take one down and pass it around, 75 bottles of beer on the wall.\n",
      "\n",
      "75 bottles of beer on the wall, 75 bottles of beer.\n",
      "Take one down and pass it around, 74 bottles of beer on the wall.\n",
      "\n",
      "74 bottles of beer on the wall, 74 bottles of beer.\n",
      "Take one down and pass it around, 73 bottles of beer on the wall.\n",
      "\n",
      "73 bottles of beer on the wall, 73 bottles of beer.\n",
      "Take one down and pass it around, 72 bottles of beer on the wall.\n",
      "\n",
      "72 bottles of beer on the wall, 72 bottles of beer.\n",
      "Take one down and pass it around, 71 bottles of beer on the wall.\n",
      "\n",
      "71 bottles of beer on the wall, 71 bottles of beer.\n",
      "Take one down and pass it around, 70 bottles of beer on the wall.\n",
      "\n",
      "70 bottles of beer on the wall, 70 bottles of beer.\n",
      "Take one down and pass it around, 69 bottles of beer on the wall.\n",
      "\n",
      "69 bottles of beer on the wall, 69 bottles of beer.\n",
      "Take one down and pass it around, 68 bottles of beer on the wall.\n",
      "\n",
      "68 bottles of beer on the wall, 68 bottles of beer.\n",
      "Take one down and pass it around, 67 bottles of beer on the wall.\n",
      "\n",
      "67 bottles of beer on the wall, 67 bottles of beer.\n",
      "Take one down and pass it around, 66 bottles of beer on the wall.\n",
      "\n",
      "66 bottles of beer on the wall, 66 bottles of beer.\n",
      "Take one down and pass it around, 65 bottles of beer on the wall.\n",
      "\n",
      "65 bottles of beer on the wall, 65 bottles of beer.\n",
      "Take one down and pass it around, 64 bottles of beer on the wall.\n",
      "\n",
      "64 bottles of beer on the wall, 64 bottles of beer.\n",
      "Take one down and pass it around, 63 bottles of beer on the wall.\n",
      "\n",
      "63 bottles of beer on the wall, 63 bottles of beer.\n",
      "Take one down and pass it around, 62 bottles of beer on the wall.\n",
      "\n",
      "62 bottles of beer on the wall, 62 bottles of beer.\n",
      "Take one down and pass it around, 61 bottles of beer on the wall.\n",
      "\n",
      "61 bottles of beer on the wall, 61 bottles of beer.\n",
      "Take one down and pass it around, 60 bottles of beer on the wall.\n",
      "\n",
      "60 bottles of beer on the wall, 60 bottles of beer.\n",
      "Take one down and pass it around, 59 bottles of beer on the wall.\n",
      "\n",
      "59 bottles of beer on the wall, 59 bottles of beer.\n",
      "Take one down and pass it around, 58 bottles of beer on the wall.\n",
      "\n",
      "58 bottles of beer on the wall, 58 bottles of beer.\n",
      "Take one down and pass it around, 57 bottles of beer on the wall.\n",
      "\n",
      "57 bottles of beer on the wall, 57 bottles of beer.\n",
      "Take one down and pass it around, 56 bottles of beer on the wall.\n",
      "\n",
      "56 bottles of beer on the wall, 56 bottles of beer.\n",
      "Take one down and pass it around, 55 bottles of beer on the wall.\n",
      "\n",
      "55 bottles of beer on the wall, 55 bottles of beer.\n",
      "Take one down and pass it around, 54 bottles of beer on the wall.\n",
      "\n",
      "54 bottles of beer on the wall, 54 bottles of beer.\n",
      "Take one down and pass it around, 53 bottles of beer on the wall.\n",
      "\n",
      "53 bottles of beer on the wall, 53 bottles of beer.\n",
      "Take one down and pass it around, 52 bottles of beer on the wall.\n",
      "\n",
      "52 bottles of beer on the wall, 52 bottles of beer.\n",
      "Take one down and pass it around, 51 bottles of beer on the wall.\n",
      "\n",
      "51 bottles of beer on the wall, 51 bottles of beer.\n",
      "Take one down and pass it around, 50 bottles of beer on the wall.\n",
      "\n",
      "50 bottles of beer on the wall, 50 bottles of beer.\n",
      "Take one down and pass it around, 49 bottles of beer on the wall.\n",
      "\n",
      "49 bottles of beer on the wall, 49 bottles of beer.\n",
      "Take one down and pass it around, 48 bottles of beer on the wall.\n",
      "\n",
      "48 bottles of beer on the wall, 48 bottles of beer.\n",
      "Take one down and pass it around, 47 bottles of beer on the wall.\n",
      "\n",
      "47 bottles of beer on the wall, 47 bottles of beer.\n",
      "Take one down and pass it around, 46 bottles of beer on the wall.\n",
      "\n",
      "46 bottles of beer on the wall, 46 bottles of beer.\n",
      "Take one down and pass it around, 45 bottles of beer on the wall.\n",
      "\n",
      "45 bottles of beer on the wall, 45 bottles of beer.\n",
      "Take one down and pass it around, 44 bottles of beer on the wall.\n",
      "\n",
      "44 bottles of beer on the wall, 44 bottles of beer.\n",
      "Take one down and pass it around, 43 bottles of beer on the wall.\n",
      "\n",
      "43 bottles of beer on the wall, 43 bottles of beer.\n",
      "Take one down and pass it around, 42 bottles of beer on the wall.\n",
      "\n",
      "42 bottles of beer on the wall, 42 bottles of beer.\n",
      "Take one down and pass it around, 41 bottles of beer on the wall.\n",
      "\n",
      "41 bottles of beer on the wall, 41 bottles of beer.\n",
      "Take one down and pass it around, 40 bottles of beer on the wall.\n",
      "\n",
      "40 bottles of beer on the wall, 40 bottles of beer.\n",
      "Take one down and pass it around, 39 bottles of beer on the wall.\n",
      "\n",
      "39 bottles of beer on the wall, 39 bottles of beer.\n",
      "Take one down and pass it around, 38 bottles of beer on the wall.\n",
      "\n",
      "38 bottles of beer on the wall, 38 bottles of beer.\n",
      "Take one down and pass it around, 37 bottles of beer on the wall.\n",
      "\n",
      "37 bottles of beer on the wall, 37 bottles of beer.\n",
      "Take one down and pass it around, 36 bottles of beer on the wall.\n",
      "\n",
      "36 bottles of beer on the wall, 36 bottles of beer.\n",
      "Take one down and pass it around, 35 bottles of beer on the wall.\n",
      "\n",
      "35 bottles of beer on the wall, 35 bottles of beer.\n",
      "Take one down and pass it around, 34 bottles of beer on the wall.\n",
      "\n",
      "34 bottles of beer on the wall, 34 bottles of beer.\n",
      "Take one down and pass it around, 33 bottles of beer on the wall.\n",
      "\n",
      "33 bottles of beer on the wall, 33 bottles of beer.\n",
      "Take one down and pass it around, 32 bottles of beer on the wall.\n",
      "\n",
      "32 bottles of beer on the wall, 32 bottles of beer.\n",
      "Take one down and pass it around, 31 bottles of beer on the wall.\n",
      "\n",
      "31 bottles of beer on the wall, 31 bottles of beer.\n",
      "Take one down and pass it around, 30 bottles of beer on the wall.\n",
      "\n",
      "30 bottles of beer on the wall, 30 bottles of beer.\n",
      "Take one down and pass it around, 29 bottles of beer on the wall.\n",
      "\n",
      "29 bottles of beer on the wall, 29 bottles of beer.\n",
      "Take one down and pass it around, 28 bottles of beer on the wall.\n",
      "\n",
      "28 bottles of beer on the wall, 28 bottles of beer.\n",
      "Take one down and pass it around, 27 bottles of beer on the wall.\n",
      "\n",
      "27 bottles of beer on the wall, 27 bottles of beer.\n",
      "Take one down and pass it around, 26 bottles of beer on the wall.\n",
      "\n",
      "26 bottles of beer on the wall, 26 bottles of beer.\n",
      "Take one down and pass it around, 25 bottles of beer on the wall.\n",
      "\n",
      "25 bottles of beer on the wall, 25 bottles of beer.\n",
      "Take one down and pass it around, 24 bottles of beer on the wall.\n",
      "\n",
      "24 bottles of beer on the wall, 24 bottles of beer.\n",
      "Take one down and pass it around, 23 bottles of beer on the wall.\n",
      "\n",
      "23 bottles of beer on the wall, 23 bottles of beer.\n",
      "Take one down and pass it around, 22 bottles of beer on the wall.\n",
      "\n",
      "22 bottles of beer on the wall, 22 bottles of beer.\n",
      "Take one down and pass it around, 21 bottles of beer on the wall.\n",
      "\n",
      "21 bottles of beer on the wall, 21 bottles of beer.\n",
      "Take one down and pass it around, 20 bottles of beer on the wall.\n",
      "\n",
      "20 bottles of beer on the wall, 20 bottles of beer.\n",
      "Take one down and pass it around, 19 bottles of beer on the wall.\n",
      "\n",
      "19 bottles of beer on the wall, 19 bottles of beer.\n",
      "Take one down and pass it around, 18 bottles of beer on the wall.\n",
      "\n",
      "18 bottles of beer on the wall, 18 bottles of beer.\n",
      "Take one down and pass it around, 17 bottles of beer on the wall.\n",
      "\n",
      "17 bottles of beer on the wall, 17 bottles of beer.\n",
      "Take one down and pass it around, 16 bottles of beer on the wall.\n",
      "\n",
      "16 bottles of beer on the wall, 16 bottles of beer.\n",
      "Take one down and pass it around, 15 bottles of beer on the wall.\n",
      "\n",
      "15 bottles of beer on the wall, 15 bottles of beer.\n",
      "Take one down and pass it around, 14 bottles of beer on the wall.\n",
      "\n",
      "14 bottles of beer on the wall, 14 bottles of beer.\n",
      "Take one down and pass it around, 13 bottles of beer on the wall.\n",
      "\n",
      "13 bottles of beer on the wall, 13 bottles of beer.\n",
      "Take one down and pass it around, 12 bottles of beer on the wall.\n",
      "\n",
      "12 bottles of beer on the wall, 12 bottles of beer.\n",
      "Take one down and pass it around, 11 bottles of beer on the wall.\n",
      "\n",
      "11 bottles of beer on the wall, 11 bottles of beer.\n",
      "Take one down and pass it around, 10 bottles of beer on the wall.\n",
      "\n",
      "10 bottles of beer on the wall, 10 bottles of beer.\n",
      "Take one down and pass it around, 9 bottles of beer on the wall.\n",
      "\n",
      "9 bottles of beer on the wall, 9 bottles of beer.\n",
      "Take one down and pass it around, 8 bottles of beer on the wall.\n",
      "\n",
      "8 bottles of beer on the wall, 8 bottles of beer.\n",
      "Take one down and pass it around, 7 bottles of beer on the wall.\n",
      "\n",
      "7 bottles of beer on the wall, 7 bottles of beer.\n",
      "Take one down and pass it around, 6 bottles of beer on the wall.\n",
      "\n",
      "6 bottles of beer on the wall, 6 bottles of beer.\n",
      "Take one down and pass it around, 5 bottles of beer on the wall.\n",
      "\n",
      "5 bottles of beer on the wall, 5 bottles of beer.\n",
      "Take one down and pass it around, 4 bottles of beer on the wall.\n",
      "\n",
      "4 bottles of beer on the wall, 4 bottles of beer.\n",
      "Take one down and pass it around, 3 bottles of beer on the wall.\n",
      "\n",
      "3 bottles of beer on the wall, 3 bottles of beer.\n",
      "Take one down and pass it around, 2 bottles of beer on the wall.\n",
      "\n",
      "2 bottles of beer on the wall, 2 bottles of beer.\n",
      "Take one down and pass it around, 1 bottles of beer on the wall.\n",
      "\n",
      "1 bottle of beer on the wall, 1 bottle of beer.\n",
      "Take one down and pass it around, no more bottles of beer on the wall.\n",
      "\n",
      "No more bottles of beer on the wall, no more bottles of beer.\n",
      "Go to the store and buy some more, 99 bottles of beer on the wall.\n"
     ]
    }
   ],
   "source": [
    "def generate_bottles_of_beer_song():\n",
    "    verses = []\n",
    "    for bottles in range(99, 0, -1):\n",
    "        if bottles > 1:\n",
    "            verses.append(f\"{bottles} bottles of beer on the wall, {bottles} bottles of beer.\")\n",
    "            verses.append(f\"Take one down and pass it around, {bottles - 1} bottles of beer on the wall.\\n\")\n",
    "        elif bottles == 1:\n",
    "            verses.append(f\"1 bottle of beer on the wall, 1 bottle of beer.\")\n",
    "            verses.append(\"Take one down and pass it around, no more bottles of beer on the wall.\\n\")\n",
    "    \n",
    "    verses.append(\"No more bottles of beer on the wall, no more bottles of beer.\")\n",
    "    verses.append(\"Go to the store and buy some more, 99 bottles of beer on the wall.\")\n",
    "    \n",
    "    return '\\n'.join(verses)\n",
    "\n",
    "song = generate_bottles_of_beer_song()\n",
    "print(song)\n"
   ]
  },
  {
   "cell_type": "markdown",
   "id": "3ff1f571-5fb7-46c9-a02d-d2fd67113e41",
   "metadata": {},
   "source": [
    "\n",
    "20. Create a translation function using a small dictionary to translate English words into French/."
   ]
  },
  {
   "cell_type": "code",
   "execution_count": 56,
   "id": "55311c26-8f40-4e5b-a943-e48c789e9d47",
   "metadata": {},
   "outputs": [
    {
     "name": "stdin",
     "output_type": "stream",
     "text": [
      "Enter the word:  dream\n"
     ]
    },
    {
     "name": "stdout",
     "output_type": "stream",
     "text": [
      "The translation of 'dream' is 'rêve'.\n"
     ]
    }
   ],
   "source": [
    "def translate_to_french(word):\n",
    "    translation_dict = {\n",
    "        \"hello\": \"bonjour\",\n",
    "        \"goodbye\": \"au revoir\",\n",
    "        \"please\": \"s'il vous plaît\",\n",
    "        \"thank you\": \"merci\",\n",
    "        \"yes\": \"oui\",\n",
    "        \"no\": \"non\",\n",
    "        \"cat\": \"chat\",\n",
    "        \"dog\": \"chien\",\n",
    "        \"friend\": \"ami\",\n",
    "        \"love\": \"amour\",\n",
    "        \"happy\": \"heureux\",\n",
    "        \"sad\": \"triste\",\n",
    "        \"book\": \"livre\",\n",
    "        \"water\": \"eau\",\n",
    "        \"food\": \"nourriture\",\n",
    "        \"house\": \"maison\",\n",
    "        \"car\": \"voiture\",\n",
    "        \"computer\": \"ordinateur\",\n",
    "        \"school\": \"école\",\n",
    "        \"family\": \"famille\",\n",
    "        \"city\": \"ville\",\n",
    "        \"job\": \"travail\",\n",
    "        \"music\": \"musique\",\n",
    "        \"travel\": \"voyager\",\n",
    "        \"dream\": \"rêve\"\n",
    "    }\n",
    "    \n",
    "    return translation_dict.get(word.lower(), \"Translation not found.\")\n",
    "word_to_translate = input(\"Enter the word: \")\n",
    "translated_word = translate_to_french(word_to_translate)\n",
    "\n",
    "print(f\"The translation of '{word_to_translate}' is '{translated_word}'.\")\n"
   ]
  },
  {
   "cell_type": "markdown",
   "id": "e50f9f3b-115f-45d7-bcd1-38dc496bf096",
   "metadata": {},
   "source": [
    "\n",
    "21. Develop `char_frequency()` to build a dictionary of character frequencies in a string."
   ]
  },
  {
   "cell_type": "code",
   "execution_count": 57,
   "id": "2870def2-09bb-4edc-8ab2-ad422c7a9634",
   "metadata": {},
   "outputs": [
    {
     "name": "stdout",
     "output_type": "stream",
     "text": [
      "Character frequencies in 'hello world': {'h': 1, 'e': 1, 'l': 3, 'o': 2, ' ': 1, 'w': 1, 'r': 1, 'd': 1}\n"
     ]
    }
   ],
   "source": [
    "def char_frequency(string):\n",
    "    frequency_dict = {}\n",
    "\n",
    "    for char in string:\n",
    "        if char in frequency_dict:\n",
    "            frequency_dict[char] += 1 \n",
    "        else:\n",
    "            frequency_dict[char] = 1 \n",
    "    \n",
    "    return frequency_dict\n",
    "\n",
    "input_string = \"hello world\"\n",
    "frequency = char_frequency(input_string)\n",
    "\n",
    "print(f\"Character frequencies in '{input_string}': {frequency}\")"
   ]
  },
  {
   "cell_type": "markdown",
   "id": "be9de1bc-552b-4878-8eb3-c5deddd72107",
   "metadata": {},
   "source": [
    "\n",
    "22. Implement a [Caesar cipher encoder/decoder using a shift of 13 (ROT-13)](https://en.wikipedia.org/wiki/ROT13)."
   ]
  },
  {
   "cell_type": "code",
   "execution_count": null,
   "id": "d9e72a21-0c50-47e2-8c00-2dea16870e77",
   "metadata": {},
   "outputs": [],
   "source": [
    "def caesar_cipher_code(word):\n",
    "    "
   ]
  },
  {
   "cell_type": "markdown",
   "id": "6400f19e-3a5a-4686-87d0-b6affe153b61",
   "metadata": {},
   "source": [
    "\n",
    "23. Create `fix_spaces()` to correct multiple spaces and missing spaces after periods in a text."
   ]
  },
  {
   "cell_type": "code",
   "execution_count": null,
   "id": "3bbb4834-262d-4e44-b100-8628c6f4a1d7",
   "metadata": {},
   "outputs": [],
   "source": []
  },
  {
   "cell_type": "markdown",
   "id": "628a3ac3-a481-45e4-aa9e-5c0be5ddd49f",
   "metadata": {},
   "source": [
    "\n",
    "24. Write `convert_to_third_person()` to transform verbs into their third person singular form."
   ]
  },
  {
   "cell_type": "code",
   "execution_count": null,
   "id": "e10b4cc7-37d5-416c-a8ad-b3cbd1d4b1d8",
   "metadata": {},
   "outputs": [],
   "source": []
  },
  {
   "cell_type": "markdown",
   "id": "6c67f103-b50a-49b8-88f5-f21d05d89ed0",
   "metadata": {},
   "source": [
    "\n",
    "25. Implement `make_ing_form()` to convert verbs into their present participle form using heuristic rules."
   ]
  },
  {
   "cell_type": "code",
   "execution_count": null,
   "id": "dc38a3c5-bef9-4d39-a503-d5dcfdbbcf43",
   "metadata": {},
   "outputs": [],
   "source": []
  },
  {
   "cell_type": "markdown",
   "id": "ca70d88e-84a1-4d97-82bd-cffdd114df8f",
   "metadata": {},
   "source": [
    "#### Higher-Order Functions and List Comprehensions\n",
    "\n",
    "26. Use `reduce()` to write `max_in_list()` that returns the largest number in a list.\n"
   ]
  },
  {
   "cell_type": "code",
   "execution_count": 58,
   "id": "142cedb8-66d7-497e-91bf-045b7f58d41a",
   "metadata": {},
   "outputs": [
    {
     "name": "stdout",
     "output_type": "stream",
     "text": [
      "The largest number in the list is: 91\n"
     ]
    }
   ],
   "source": [
    "from functools import reduce\n",
    "\n",
    "def max_in_list(numbers):\n",
    "    return reduce(lambda x, y: x if x > y else y, numbers)\n",
    "\n",
    "numbers = [12, 7, 2, 9, 1, 2, 0, 91]\n",
    "maximum = max_in_list(numbers)\n",
    "\n",
    "print(f\"The largest number in the list is: {maximum}\") \n"
   ]
  },
  {
   "cell_type": "markdown",
   "id": "10b7c461-8d28-4f38-95ec-f68ab4ef6144",
   "metadata": {},
   "source": [
    "27. Write a program that maps words to their lengths using a for-loop, `map()`, and list comprehensions.\n"
   ]
  },
  {
   "cell_type": "code",
   "execution_count": 72,
   "id": "49b6c5a7-adc8-4f6b-b917-a45c87554284",
   "metadata": {},
   "outputs": [
    {
     "name": "stdout",
     "output_type": "stream",
     "text": [
      "[{'a': 1, 'p': 1, 'l': 1, 'e': 1}, {'b': 1, 'a': 1, 'n': 1}, {'c': 1, 'h': 1, 'e': 1, 'r': 1, 'y': 1}, {'o': 1, 'r': 1, 'a': 1, 'n': 1, 'g': 1, 'e': 1}]\n"
     ]
    }
   ],
   "source": [
    "words = [\"apple\", \"banana\", \"cherry\", \"orange\"]\n",
    "result = map(map_words_to_length, words)\n",
    "print(list(result))"
   ]
  },
  {
   "cell_type": "markdown",
   "id": "77fd105b-2a33-4b73-b00d-55df12e0fef3",
   "metadata": {},
   "source": [
    "\n",
    "28. Implement `find_longest_word()` using only higher-order functions."
   ]
  },
  {
   "cell_type": "code",
   "execution_count": null,
   "id": "c5090206-0f56-45e3-ad52-915938f93975",
   "metadata": {},
   "outputs": [],
   "source": [
    "def find_longest_word()"
   ]
  },
  {
   "cell_type": "markdown",
   "id": "2f023508-0b93-44af-b65e-bf159a7267ba",
   "metadata": {},
   "source": [
    "29. Use `filter()` to write `filter_long_words()` that filters words longer than `n`."
   ]
  },
  {
   "cell_type": "code",
   "execution_count": null,
   "id": "37eeb30e-bf25-4e7a-8c39-efb904e96598",
   "metadata": {},
   "outputs": [],
   "source": [
    "def filter_long_words(word, n):\n",
    "    "
   ]
  },
  {
   "cell_type": "markdown",
   "id": "8124bd57-a180-4d2e-8d36-782894a160a3",
   "metadata": {},
   "source": [
    "30. Create `translate_with_map()` to translate English words to French using `map()`."
   ]
  },
  {
   "cell_type": "code",
   "execution_count": null,
   "id": "215e8a23-da0a-4c0c-99e7-8ea73a2d343d",
   "metadata": {},
   "outputs": [],
   "source": []
  },
  {
   "cell_type": "markdown",
   "id": "ebbb35f8-f446-48ce-8406-44ed32abde5b",
   "metadata": {},
   "source": [
    "31. Re-implement the higher-order functions `map()`, `filter()`, and `reduce()` from scratch."
   ]
  },
  {
   "cell_type": "code",
   "execution_count": null,
   "id": "577f0cc2-26c5-403b-a9de-30a16c57eb7e",
   "metadata": {},
   "outputs": [],
   "source": []
  },
  {
   "cell_type": "markdown",
   "id": "c3816edc-9760-44c3-a37e-61dea4e36eeb",
   "metadata": {},
   "source": [
    "#### Simple Tasks with I/O\n",
    "\n",
    "32. Write a palindrome recognizer that reads lines from a file and prints only the palindromes.\n"
   ]
  },
  {
   "cell_type": "code",
   "execution_count": null,
   "id": "30225587-90be-4f21-bd1c-99342ff41864",
   "metadata": {},
   "outputs": [],
   "source": []
  },
  {
   "cell_type": "markdown",
   "id": "233afd2e-7c95-4ec4-88ba-a9df892dd0c8",
   "metadata": {},
   "source": [
    "33. Implement a [semordnilap](https://en.wiktionary.org/wiki/semordnilap) recognizer that finds word pairs from a file where each word is the reverse of the other."
   ]
  },
  {
   "cell_type": "code",
   "execution_count": null,
   "id": "bc120b4a-cec7-4383-a204-0a61423854b6",
   "metadata": {},
   "outputs": [],
   "source": []
  },
  {
   "cell_type": "markdown",
   "id": "32b23653-dbed-4c68-9449-bb26ffcfef26",
   "metadata": {},
   "source": [
    "34. Create `char_frequency_table()` to display a sorted character frequency table from a file.\n"
   ]
  },
  {
   "cell_type": "code",
   "execution_count": null,
   "id": "8722ef5f-d549-45f3-b132-9155031cdaf3",
   "metadata": {},
   "outputs": [],
   "source": []
  },
  {
   "cell_type": "markdown",
   "id": "32ce4b70-ea3b-4bac-8a4e-3ea7196b024d",
   "metadata": {},
   "source": [
    "\n",
    "35. Write a function `speak_ICAO()` that translates text into the [ICAO phonetic alphabet](https://en.wikipedia.org/wiki/NATO_phonetic_alphabet)."
   ]
  },
  {
   "cell_type": "code",
   "execution_count": null,
   "id": "d6bff069-1140-42c7-ab63-26b60a68006f",
   "metadata": {},
   "outputs": [],
   "source": []
  },
  {
   "cell_type": "markdown",
   "id": "978c9449-1ae9-4f95-87a7-427ec5639bda",
   "metadata": {},
   "source": [
    "\n",
    "36. Implement `find_hapaxes()` to identify words that occur only once in a text file."
   ]
  },
  {
   "cell_type": "code",
   "execution_count": null,
   "id": "039c300d-bb1f-46ce-b678-2c82b64a7bd3",
   "metadata": {},
   "outputs": [],
   "source": []
  },
  {
   "cell_type": "markdown",
   "id": "0637e2ab-9138-492d-80f4-36eae6e7f9eb",
   "metadata": {},
   "source": [
    "38. Calculate the average word length in a text file.\n"
   ]
  },
  {
   "cell_type": "code",
   "execution_count": null,
   "id": "e1e3754f-8c04-4997-943b-234672c3b69e",
   "metadata": {},
   "outputs": [],
   "source": []
  },
  {
   "cell_type": "markdown",
   "id": "6b35ddcc-155a-42ca-9b7b-cd43a3ab5f8d",
   "metadata": {},
   "source": [
    "39. Implement a number-guessing game where the user guesses a number between 1 and 20."
   ]
  },
  {
   "cell_type": "code",
   "execution_count": null,
   "id": "7d4b9c8d-523b-4c2e-9ad9-7c70ff1fcfb4",
   "metadata": {},
   "outputs": [],
   "source": []
  },
  {
   "cell_type": "markdown",
   "id": "4fa20fbe-31a4-40b0-9994-5d4699835bc8",
   "metadata": {},
   "source": [
    "40. Write a program that presents an [anagram](https://en.wikipedia.org/wiki/Anagram) of a randomly chosen word and allows the user to guess the original.\n"
   ]
  },
  {
   "cell_type": "code",
   "execution_count": null,
   "id": "b7ac3820-c02a-4d68-bd7a-2377e2cd84eb",
   "metadata": {},
   "outputs": [],
   "source": []
  },
  {
   "cell_type": "markdown",
   "id": "c13ac1e4-1f96-42e6-bcb8-803f5ba5e231",
   "metadata": {},
   "source": [
    "41. Create a [Lingo game](https://en.wikipedia.org/wiki/Lingo_(American_game_show)) where players guess a hidden word, receiving clues about correct and misplaced characters.\n"
   ]
  },
  {
   "cell_type": "code",
   "execution_count": null,
   "id": "c8fb1918-2ca6-44b6-b235-073148354241",
   "metadata": {},
   "outputs": [],
   "source": []
  },
  {
   "cell_type": "markdown",
   "id": "c3632d48-69cf-494e-9227-96cff22b9e4c",
   "metadata": {},
   "source": [
    "\n",
    "#### Advanced Tasks\n",
    "\n",
    "42. Develop a sentence splitter that separates a text into sentences based on various heuristics."
   ]
  },
  {
   "cell_type": "code",
   "execution_count": 65,
   "id": "0b8eb581-9848-426c-b674-0deebdb78b46",
   "metadata": {},
   "outputs": [
    {
     "name": "stdout",
     "output_type": "stream",
     "text": [
      "Split sentences:\n",
      "1: Hello world!\n",
      "2: This is a python quiz 2.\n",
      "3: Is this working?\n",
      "4: Yes, it is!\n",
      "5: Dr.\n",
      "6: Gaba is here.\n",
      "7: Let's see.\n"
     ]
    }
   ],
   "source": [
    "import re\n",
    "\n",
    "def split_into_sentences(text):\n",
    "    sentence_endings = re.compile(r'(?<=[.!?])\\s+')\n",
    "\n",
    "    sentences = sentence_endings.split(text)\n",
    "    return [sentence.strip() for sentence in sentences if sentence.strip()]\n",
    "text = \"Hello world! This is a python quiz 2. Is this working? Yes, it is! Dr. Gaba is here. Let's see.\"\n",
    "sentences = split_into_sentences(text)\n",
    "\n",
    "print(\"Split sentences:\")\n",
    "for i, sentence in enumerate(sentences, 1):\n",
    "    print(f\"{i}: {sentence}\")"
   ]
  },
  {
   "cell_type": "raw",
   "id": "06ef7cc2-d1f7-4f08-8469-4e55d109f136",
   "metadata": {},
   "source": [
    "43. Write a program to find the largest group of anagrams in a given word list."
   ]
  },
  {
   "cell_type": "code",
   "execution_count": null,
   "id": "d851c95b-e381-4b0a-b0af-90475f0dc608",
   "metadata": {},
   "outputs": [],
   "source": [
    "import re \n",
    "\n",
    "pattern = r'[A-Z]'"
   ]
  },
  {
   "cell_type": "markdown",
   "id": "f40e2559-a1b3-4f89-8718-49cebb5179ec",
   "metadata": {},
   "source": [
    "44. Generate a string of balanced brackets and verify if it is balanced."
   ]
  },
  {
   "cell_type": "code",
   "execution_count": null,
   "id": "ae6c72ac-4711-482c-b7a5-c4d0ad2e8aa6",
   "metadata": {},
   "outputs": [],
   "source": []
  },
  {
   "cell_type": "markdown",
   "id": "88d57fcd-2a73-4178-b42d-71e04204536b",
   "metadata": {},
   "source": [
    "45. Create a word chain game where each word starts with the last letter of the previous one, using a list of [Pokemon names](https://en.wikipedia.org/wiki/List_of_Pok%C3%A9mon)."
   ]
  },
  {
   "cell_type": "code",
   "execution_count": null,
   "id": "6a48d67f-cc59-49ad-aaf0-29cd0821d42e",
   "metadata": {},
   "outputs": [],
   "source": []
  }
 ],
 "metadata": {
  "kernelspec": {
   "display_name": "Python 3 (ipykernel)",
   "language": "python",
   "name": "python3"
  },
  "language_info": {
   "codemirror_mode": {
    "name": "ipython",
    "version": 3
   },
   "file_extension": ".py",
   "mimetype": "text/x-python",
   "name": "python",
   "nbconvert_exporter": "python",
   "pygments_lexer": "ipython3",
   "version": "3.12.3"
  }
 },
 "nbformat": 4,
 "nbformat_minor": 5
}
