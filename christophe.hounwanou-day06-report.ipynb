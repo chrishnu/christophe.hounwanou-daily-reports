{
 "cells": [
  {
   "cell_type": "code",
   "execution_count": 15,
   "id": "ea04c9b9-155d-42db-9068-f39079bb94f0",
   "metadata": {},
   "outputs": [
    {
     "name": "stdin",
     "output_type": "stream",
     "text": [
      "Enter the day number: 2\n"
     ]
    },
    {
     "name": "stdout",
     "output_type": "stream",
     "text": [
      "This month has 31 days\n"
     ]
    }
   ],
   "source": [
    "def month_day(n):\n",
    "    switch={\n",
    "      0: \"This month has 31 days\",\n",
    "      1: \"This month has 28 days\",\n",
    "      2:\"This month has 31 days\",\n",
    "      3:\"This month has 30 days\",\n",
    "      4: \"This month has 31 days\",\n",
    "      5: \"This month has 30 days\",\n",
    "      6:\"This month has 31 days\",\n",
    "      7:\"This month has 31 days\",\n",
    "      8: \"This month has 30 days\",\n",
    "      9: \"This month has 31 days\",\n",
    "      10:\"This month has 30 days\",\n",
    "      11:\"This month has 31 days\",\n",
    "      }\n",
    "    return switch.get(number,\"Invalid input\")\n",
    "\n",
    "n = int(input(\"Enter the day number:\"))\n",
    "print(month_day(n))"
   ]
  },
  {
   "cell_type": "markdown",
   "id": "378c14a2-12ee-4f2a-a5a8-8353926ac4b5",
   "metadata": {},
   "source": [
    "### Exercice 1"
   ]
  },
  {
   "cell_type": "code",
   "execution_count": 8,
   "id": "1ebaedbb-0e68-4179-a519-b455da18cbc8",
   "metadata": {},
   "outputs": [
    {
     "name": "stdin",
     "output_type": "stream",
     "text": [
      "Enter n:  5\n"
     ]
    },
    {
     "name": "stdout",
     "output_type": "stream",
     "text": [
      "The sum of odd is 10 and the product is 105\n"
     ]
    }
   ],
   "source": [
    "n = int(input(\"Enter n: \"))\n",
    "\n",
    "s = 0 \n",
    "p = 1\n",
    "\n",
    "for i in range(n):\n",
    "    if i % 2 != 0:\n",
    "        s+= (i+3)\n",
    "    else:\n",
    "        p*=(i+3)\n",
    "\n",
    "print(f\"The sum of odd is {s} and the product is {p}\")"
   ]
  },
  {
   "cell_type": "markdown",
   "id": "71985851-afbf-44ab-9d26-3bb9258122d0",
   "metadata": {},
   "source": [
    "### Exercice 2"
   ]
  },
  {
   "cell_type": "code",
   "execution_count": 24,
   "id": "ec8475ee-81ff-4a3e-88d1-a9849f5cfa7d",
   "metadata": {},
   "outputs": [
    {
     "name": "stdin",
     "output_type": "stream",
     "text": [
      "Enter n:  2\n"
     ]
    },
    {
     "name": "stdout",
     "output_type": "stream",
     "text": [
      "Tuesday\n"
     ]
    }
   ],
   "source": [
    "n = int(input(\"Enter n: \"))\n",
    "\n",
    "if n== 0 or n== 6:\n",
    "    print(\"Weekend\")\n",
    "elif n == 1:\n",
    "    print(\"Monday\")\n",
    "elif n==2:\n",
    "    print(\"Tuesday\")\n",
    "elif n==3:\n",
    "    print(\"Wednesday\")\n",
    "elif n==4:\n",
    "    print (\"Thursday\")\n",
    "elif n==5: \n",
    "    print(\"Friday\")\n",
    "else:\n",
    "    print(\"Invalid: enter between 0 and 6\")\n"
   ]
  },
  {
   "cell_type": "markdown",
   "id": "d5fbc2cf-f1f6-49bd-a6e7-fc2cecc55088",
   "metadata": {},
   "source": [
    "### Exercice 3"
   ]
  },
  {
   "cell_type": "code",
   "execution_count": 28,
   "id": "e41dda7d-bbf3-4b1e-90f4-1aa210668955",
   "metadata": {},
   "outputs": [
    {
     "name": "stdin",
     "output_type": "stream",
     "text": [
      "Enter n:  2\n"
     ]
    },
    {
     "name": "stdout",
     "output_type": "stream",
     "text": [
      "This month of a leap year has 31 days\n"
     ]
    }
   ],
   "source": [
    "n = int(input(\"Enter n: \"))\n",
    "\n",
    "list1 = [0, 2, 4, 6, 7, 9, 11]\n",
    "list2 = [3, 5, 8, 10]\n",
    "\n",
    "if n in list1:\n",
    "    print (\"This month of a leap year has 31 days\")\n",
    "elif n in list2:\n",
    "    print(\"This month has 30 days\") \n",
    "elif n==1:\n",
    "    print(\"This month of a leap year has 28 days\")\n",
    "else:\n",
    "    print(\"Enter a number between 0 and 11\")"
   ]
  },
  {
   "cell_type": "markdown",
   "id": "2ea4a5bf-2a13-4579-a6a1-7a3f31ff43bb",
   "metadata": {},
   "source": [
    "### Exercice 4"
   ]
  },
  {
   "cell_type": "code",
   "execution_count": 1,
   "id": "efaaa09d-0bf3-4e54-9cf9-4151005015cf",
   "metadata": {
    "scrolled": true
   },
   "outputs": [
    {
     "name": "stdout",
     "output_type": "stream",
     "text": [
      "My name is Christophe HOUNWANOU\n",
      "My name is Christophe HOUNWANOU\n",
      "My name is Christophe HOUNWANOU\n"
     ]
    }
   ],
   "source": [
    "name = \"Christophe HOUNWANOU\"\n",
    "\n",
    "for i in range(3):\n",
    "    print(f\"My name is {name}\")"
   ]
  },
  {
   "cell_type": "code",
   "execution_count": 4,
   "id": "1f4c5fed-1024-4289-b692-a48a97af1d47",
   "metadata": {},
   "outputs": [
    {
     "name": "stdout",
     "output_type": "stream",
     "text": [
      "My name is Christophe HOUNWANOU\n",
      "My name is Christophe HOUNWANOU\n",
      "My name is Christophe HOUNWANOU\n"
     ]
    }
   ],
   "source": [
    "i = 0\n",
    "while i < 3:\n",
    "    print(f\"My name is {name}\")\n",
    "    i+=1"
   ]
  },
  {
   "cell_type": "markdown",
   "id": "0136d7f0-fe7c-4b00-a3de-bdb22c1c9d48",
   "metadata": {},
   "source": [
    "### Exercice 5"
   ]
  },
  {
   "cell_type": "code",
   "execution_count": 13,
   "id": "e5f85ff1-aafe-4dd1-89b3-f6ea87d7a746",
   "metadata": {},
   "outputs": [
    {
     "name": "stdin",
     "output_type": "stream",
     "text": [
      "Enter x0:  0\n",
      "Enter x0:  1\n"
     ]
    },
    {
     "name": "stdout",
     "output_type": "stream",
     "text": [
      "The first 15 terms of Fibonacci sequence are: \n",
      "a0 = 0\n",
      "a1 = 1\n",
      "a2 = 1\n",
      "a3 = 2\n",
      "a4 = 3\n",
      "a5 = 5\n",
      "a6 = 8\n",
      "a7 = 13\n",
      "a8 = 21\n",
      "a9 = 34\n",
      "a10 = 55\n",
      "a11 = 89\n",
      "a12 = 144\n",
      "a13 = 233\n"
     ]
    }
   ],
   "source": [
    "a0= int(input(\"Enter x0: \"))\n",
    "a1= int(input(\"Enter x0: \"))\n",
    "\n",
    "print (\"The first 15 terms of Fibonacci sequence are: \")\n",
    "print(f\"a0 = {a0}\")\n",
    "print(f\"a1 = {a1}\")\n",
    "for i in range(2,14):\n",
    "    x = a0 + a1\n",
    "    print(f\"a{i} = {x}\")\n",
    "    a0 = a1\n",
    "    a1 = x"
   ]
  },
  {
   "cell_type": "markdown",
   "id": "5625f1c4-c18f-4c2c-959e-da03cb68f86c",
   "metadata": {},
   "source": [
    "### Exercice 6"
   ]
  },
  {
   "cell_type": "code",
   "execution_count": 17,
   "id": "6b62306c-2db7-4bef-a453-53924fd74f1a",
   "metadata": {},
   "outputs": [
    {
     "name": "stdin",
     "output_type": "stream",
     "text": [
      "Enter x0:  2\n",
      "Enter x0:  4\n"
     ]
    },
    {
     "name": "stdout",
     "output_type": "stream",
     "text": [
      "The first 30 terms of Fibonacci sequence are: \n",
      "x0 = 2\n",
      "x1 = 4\n",
      "x2 = 7.333333333333333\n",
      "x3 = 14.444444444444445\n",
      "x4 = 26.814814814814817\n",
      "x5 = 52.27160493827161\n",
      "x6 = 97.86831275720166\n",
      "x7 = 189.43758573388206\n",
      "x8 = 356.75080018289896\n",
      "x9 = 687.2296905959458\n",
      "x10 = 1299.3289640806788\n",
      "x11 = 2494.7987264813974\n",
      "x12 = 4729.586467735836\n",
      "x13 = 9060.925002022805\n",
      "x14 = 17209.067737215108\n",
      "x15 = 32919.13091847345\n",
      "x16 = 62600.24685113647\n",
      "x17 = 119624.14170579918\n",
      "x18 = 227675.45445534246\n",
      "x19 = 434764.2432691784\n",
      "x20 = 827947.7777890868\n",
      "x21 = 1580275.3224038975\n",
      "x22 = 3010601.7741685594\n",
      "x23 = 5744359.891934546\n",
      "x24 = 10946591.953150528\n",
      "x25 = 20881943.660187148\n",
      "x26 = 39800423.74618063\n",
      "x27 = 75912638.89595498\n",
      "x28 = 144705484.20386022\n"
     ]
    }
   ],
   "source": [
    "x0= int(input(\"Enter x0: \"))\n",
    "x1= int(input(\"Enter x0: \"))\n",
    "\n",
    "print (\"The first 30 terms of Fibonacci sequence are: \")\n",
    "print(f\"x0 = {x0}\")\n",
    "print(f\"x1 = {x1}\")\n",
    "for i in range(2,29):\n",
    "    y = x1/3 + 3*x0\n",
    "    print(f\"x{i} = {y}\")\n",
    "    x0 = x1\n",
    "    x1 = y"
   ]
  },
  {
   "cell_type": "markdown",
   "id": "885ea892-b29c-432b-bf81-cc69ff461494",
   "metadata": {},
   "source": [
    "### Exercice 7"
   ]
  },
  {
   "cell_type": "code",
   "execution_count": 18,
   "id": "059ffe38-0b7d-490d-bad3-9f630277d145",
   "metadata": {},
   "outputs": [
    {
     "name": "stdin",
     "output_type": "stream",
     "text": [
      "Enter the year:  2000\n"
     ]
    },
    {
     "name": "stdout",
     "output_type": "stream",
     "text": [
      "This is a leap year\n"
     ]
    }
   ],
   "source": [
    "year = int(input(\"Enter the year: \"))\n",
    "\n",
    "if year % 4 == 0 and year % 100 != 0 or year % 400 == 0:\n",
    "    print(\"This is a leap year\")\n",
    "else:\n",
    "    print(\"This is a non-leap year\")\n",
    "    "
   ]
  },
  {
   "cell_type": "code",
   "execution_count": 9,
   "id": "a8fb4f8b-681e-470f-8ee5-5d195be36dd4",
   "metadata": {},
   "outputs": [
    {
     "name": "stdin",
     "output_type": "stream",
     "text": [
      "enter the year :  2020\n"
     ]
    },
    {
     "name": "stdout",
     "output_type": "stream",
     "text": [
      "2020 is a leap year : True\n"
     ]
    }
   ],
   "source": [
    "year = int(input(\"enter the year : \"))\n",
    "leap_year = (year % 4 == 0) and ((year % 100 != 0) or (year % 400 == 0))\n",
    "print(f\"{year} is a leap year : {leap_year}\")\n"
   ]
  },
  {
   "cell_type": "markdown",
   "id": "660ff45f-baf6-4a14-808a-fdf47b2c57e0",
   "metadata": {},
   "source": [
    "### Exercice 8"
   ]
  },
  {
   "cell_type": "code",
   "execution_count": 14,
   "id": "8da30c1a-85d0-4cf7-8278-ec5dd82816a3",
   "metadata": {},
   "outputs": [
    {
     "name": "stdin",
     "output_type": "stream",
     "text": [
      "Enter m:  3\n"
     ]
    },
    {
     "name": "stdout",
     "output_type": "stream",
     "text": [
      "The sum of the3 first  integers is 14\n"
     ]
    }
   ],
   "source": [
    "m = int(input(\"Enter m: \"))\n",
    "\n",
    "sum_square = 0 \n",
    "\n",
    "for i in range(1,m+1):\n",
    "    sum_square+= i**2\n",
    "print(f\"The sum of the{m} first  integers is {sum_square}\")"
   ]
  },
  {
   "cell_type": "code",
   "execution_count": 15,
   "id": "eb1da60f-c985-4660-8537-d0d243353266",
   "metadata": {},
   "outputs": [
    {
     "name": "stdin",
     "output_type": "stream",
     "text": [
      "Enter n:  3\n"
     ]
    },
    {
     "name": "stdout",
     "output_type": "stream",
     "text": [
      "The sum of the 3 first  integers is 14\n"
     ]
    }
   ],
   "source": [
    "#with the while loop\n",
    "n = int(input(\"Enter n: \"))\n",
    "j = 1\n",
    "s= 0\n",
    "while j <= n:\n",
    "    s += j**2\n",
    "    j+=1\n",
    "\n",
    "print(f\"The sum of the {n} first  integers is {s}\")"
   ]
  },
  {
   "cell_type": "code",
   "execution_count": 13,
   "id": "c7ece627-16ff-4cb9-9c2c-e93aaa725cef",
   "metadata": {},
   "outputs": [
    {
     "name": "stdin",
     "output_type": "stream",
     "text": [
      "Enter M :  23\n"
     ]
    },
    {
     "name": "stdout",
     "output_type": "stream",
     "text": [
      "The smallest n such that the sum of squares is ≥ 23 est 4\n"
     ]
    }
   ],
   "source": [
    "#8-b\n",
    "\n",
    "M = int(input(\"Enter M : \"))\n",
    "\n",
    "sum_square = 0\n",
    "\n",
    "for n in range(1, M + 1):\n",
    "    sum_square += n**2\n",
    "    if sum_square >= M:\n",
    "        break\n",
    "\n",
    "print(f\"The smallest n such that the sum of squares is ≥ {M} est {n}\")\n"
   ]
  },
  {
   "cell_type": "markdown",
   "id": "ba84f9ed-fa7c-4fa3-b3c2-d65882d82591",
   "metadata": {},
   "source": [
    "### Exercice 9"
   ]
  },
  {
   "cell_type": "code",
   "execution_count": 5,
   "id": "7c72b1e0-56e3-4cd8-8db0-e1629be8c061",
   "metadata": {},
   "outputs": [
    {
     "name": "stdin",
     "output_type": "stream",
     "text": [
      "enter the number:  12\n"
     ]
    },
    {
     "name": "stdout",
     "output_type": "stream",
     "text": [
      "All divisors of 12 are: \n",
      "1\n",
      "2\n",
      "3\n",
      "4\n",
      "6\n",
      "12\n"
     ]
    }
   ],
   "source": [
    "#9-a\n",
    "number = int(input(\"enter the number: \"))\n",
    "\n",
    "print(f\"All divisors of {number} are: \")\n",
    "for i in range(1,number + 1):\n",
    "    if number%i == 0:\n",
    "        print(i)"
   ]
  },
  {
   "cell_type": "code",
   "execution_count": 16,
   "id": "0dfc3581-12d0-45f1-ac5f-4e78f6044073",
   "metadata": {},
   "outputs": [
    {
     "name": "stdin",
     "output_type": "stream",
     "text": [
      "Enter a value for M:  345\n"
     ]
    },
    {
     "name": "stdout",
     "output_type": "stream",
     "text": [
      "The smallest n such that the sum of squares is ≥ 345 is: 10\n"
     ]
    }
   ],
   "source": [
    "#9-b\n",
    "\n",
    "M = int(input(\"Enter a value for M: \"))\n",
    "\n",
    "sum_of_squares = 0\n",
    "n = 1\n",
    "\n",
    "while sum_of_squares < M:\n",
    "    sum_of_squares += n**2\n",
    "    if sum_of_squares >= M:\n",
    "        break\n",
    "    n += 1\n",
    "\n",
    "print(f\"The smallest n such that the sum of squares is ≥ {M} is: {n}\")"
   ]
  },
  {
   "cell_type": "markdown",
   "id": "c58cbce0-2f08-42b7-89f8-6ddced2c493d",
   "metadata": {},
   "source": [
    "### Exercice 8-b"
   ]
  },
  {
   "cell_type": "code",
   "execution_count": 18,
   "id": "2bf2125e-6546-4007-896f-a236d1de9e3f",
   "metadata": {},
   "outputs": [
    {
     "name": "stdin",
     "output_type": "stream",
     "text": [
      "Enter an integer:  268\n"
     ]
    },
    {
     "name": "stdout",
     "output_type": "stream",
     "text": [
      "Prime factors of 268 are:\n",
      "2 2 67\n"
     ]
    }
   ],
   "source": [
    "n = int(input(\"Enter an integer: \"))\n",
    "\n",
    "i = 2\n",
    "\n",
    "print(f\"Prime factors of {n} are:\")\n",
    "\n",
    "while i * i <= n:\n",
    "    while n % i == 0:\n",
    "        print(i, end=\" \")\n",
    "        n //= i\n",
    "    i += 1\n",
    "\n",
    "if n > 1:\n",
    "    print(n)"
   ]
  },
  {
   "cell_type": "markdown",
   "id": "281d04bd-b36f-4183-be21-ab2e92d0c341",
   "metadata": {},
   "source": [
    "### Exercice 10"
   ]
  },
  {
   "cell_type": "code",
   "execution_count": 19,
   "id": "c56b317b-d442-42bb-91b8-5e34eeca28a5",
   "metadata": {},
   "outputs": [
    {
     "name": "stdin",
     "output_type": "stream",
     "text": [
      "Enter an integer between 0 and 9:  2\n",
      "Enter another natural number N:  8\n"
     ]
    },
    {
     "name": "stdout",
     "output_type": "stream",
     "text": [
      "Multiplication table of 2 up to 8:\n",
      "2 x 1 = 2\n",
      "2 x 2 = 4\n",
      "2 x 3 = 6\n",
      "2 x 4 = 8\n",
      "2 x 5 = 10\n",
      "2 x 6 = 12\n",
      "2 x 7 = 14\n",
      "2 x 8 = 16\n"
     ]
    }
   ],
   "source": [
    "n = int(input(\"Enter an integer between 0 and 9: \"))\n",
    "N = int(input(\"Enter another natural number N: \"))\n",
    "\n",
    "if 0 <= n <= 9:\n",
    "    print(f\"Multiplication table of {n} up to {N}:\")\n",
    "    for i in range(1, N + 1):\n",
    "        print(f\"{n} x {i} = {n * i}\")\n",
    "else:\n",
    "    print(\"Invalid input. Please enter a number between 0 and 9.\")"
   ]
  },
  {
   "cell_type": "markdown",
   "id": "737abe65-6d66-41a5-9d57-af4c82d82b73",
   "metadata": {},
   "source": [
    "### Exercice 11"
   ]
  },
  {
   "cell_type": "code",
   "execution_count": 20,
   "id": "58fca8d9-9d07-47ca-8192-7968c0baf490",
   "metadata": {},
   "outputs": [
    {
     "name": "stdout",
     "output_type": "stream",
     "text": [
      "[0, 3, 6, 7, 9, 11, 12, 14, 15, 18, 21, 22, 24, 27, 28, 30, 33, 35, 36, 39]\n"
     ]
    }
   ],
   "source": [
    "multiples = [i for i in range(41) if i % 3 == 0 or i % 7 == 0 or i % 11 == 0]\n",
    "print(multiples)"
   ]
  },
  {
   "cell_type": "markdown",
   "id": "08445820-e690-41e9-97e8-8ff170d2ca8f",
   "metadata": {},
   "source": [
    "### Exercice 12"
   ]
  },
  {
   "cell_type": "code",
   "execution_count": 21,
   "id": "d01f2b6f-8055-4051-be69-2ee6f11bb8fe",
   "metadata": {},
   "outputs": [
    {
     "name": "stdin",
     "output_type": "stream",
     "text": [
      "Enter a float value:  5.6794\n"
     ]
    },
    {
     "name": "stdout",
     "output_type": "stream",
     "text": [
      "The floor of 5.6794 is: 5\n"
     ]
    }
   ],
   "source": [
    "x = float(input(\"Enter a float value: \"))\n",
    "floor_x = int(x) if x == int(x) else int(x) - 1 if x < 0 else int(x)\n",
    "print(f\"The floor of {x} is: {floor_x}\")"
   ]
  },
  {
   "cell_type": "markdown",
   "id": "70b5d14f-f737-4c63-aab5-f2582449268f",
   "metadata": {},
   "source": [
    "### Exercice 13"
   ]
  },
  {
   "cell_type": "code",
   "execution_count": 22,
   "id": "631db6e0-8e6b-46bd-9405-511caa2b4e93",
   "metadata": {},
   "outputs": [
    {
     "name": "stdin",
     "output_type": "stream",
     "text": [
      "Enter the x coordinate:  0\n",
      "Enter the y coordinate:  1\n"
     ]
    },
    {
     "name": "stdout",
     "output_type": "stream",
     "text": [
      "The point lies on the y-axis.\n"
     ]
    },
    {
     "name": "stdin",
     "output_type": "stream",
     "text": [
      "Do you want to quit? (yes to quit, any other key to continue):  no\n",
      "Enter the x coordinate:  yes\n"
     ]
    },
    {
     "ename": "ValueError",
     "evalue": "could not convert string to float: 'yes'",
     "output_type": "error",
     "traceback": [
      "\u001b[1;31m---------------------------------------------------------------------------\u001b[0m",
      "\u001b[1;31mValueError\u001b[0m                                Traceback (most recent call last)",
      "Cell \u001b[1;32mIn[22], line 2\u001b[0m\n\u001b[0;32m      1\u001b[0m \u001b[38;5;28;01mwhile\u001b[39;00m \u001b[38;5;28;01mTrue\u001b[39;00m:\n\u001b[1;32m----> 2\u001b[0m     x \u001b[38;5;241m=\u001b[39m \u001b[38;5;28;43mfloat\u001b[39;49m\u001b[43m(\u001b[49m\u001b[38;5;28;43minput\u001b[39;49m\u001b[43m(\u001b[49m\u001b[38;5;124;43m\"\u001b[39;49m\u001b[38;5;124;43mEnter the x coordinate: \u001b[39;49m\u001b[38;5;124;43m\"\u001b[39;49m\u001b[43m)\u001b[49m\u001b[43m)\u001b[49m\n\u001b[0;32m      3\u001b[0m     y \u001b[38;5;241m=\u001b[39m \u001b[38;5;28mfloat\u001b[39m(\u001b[38;5;28minput\u001b[39m(\u001b[38;5;124m\"\u001b[39m\u001b[38;5;124mEnter the y coordinate: \u001b[39m\u001b[38;5;124m\"\u001b[39m))\n\u001b[0;32m      5\u001b[0m     \u001b[38;5;28;01mif\u001b[39;00m x \u001b[38;5;241m==\u001b[39m \u001b[38;5;241m0\u001b[39m \u001b[38;5;129;01mand\u001b[39;00m y \u001b[38;5;241m==\u001b[39m \u001b[38;5;241m0\u001b[39m:\n",
      "\u001b[1;31mValueError\u001b[0m: could not convert string to float: 'yes'"
     ]
    }
   ],
   "source": [
    "while True:\n",
    "    x = float(input(\"Enter the x coordinate: \"))\n",
    "    y = float(input(\"Enter the y coordinate: \"))\n",
    "\n",
    "    if x == 0 and y == 0:\n",
    "        print(\"The point is at the origin.\")\n",
    "    elif x == 0:\n",
    "        print(\"The point lies on the y-axis.\")\n",
    "    elif y == 0:\n",
    "        print(\"The point lies on the x-axis.\")\n",
    "    elif x > 0 and y > 0:\n",
    "        print(\"The point is in the 1st quadrant.\")\n",
    "    elif x < 0 and y > 0:\n",
    "        print(\"The point is in the 2nd quadrant.\")\n",
    "    elif x < 0 and y < 0:\n",
    "        print(\"The point is in the 3rd quadrant.\")\n",
    "    elif x > 0 and y < 0:\n",
    "        print(\"The point is in the 4th quadrant.\")\n",
    "    \n",
    "    if input(\"Do you want to quit? (yes to quit, any other key to continue): \").lower() == \"yes\":\n",
    "        break\n"
   ]
  },
  {
   "cell_type": "markdown",
   "id": "035a993f-03b1-4781-91a4-1ec0a3761e44",
   "metadata": {},
   "source": [
    "### Exercice 14"
   ]
  },
  {
   "cell_type": "code",
   "execution_count": 23,
   "id": "c9e0d913-4273-4293-8d22-ce4cf3688e19",
   "metadata": {},
   "outputs": [
    {
     "name": "stdin",
     "output_type": "stream",
     "text": [
      "Enter an integer between 0 and 9:  3\n",
      "Enter an integer between 0 and 255:  34\n"
     ]
    },
    {
     "name": "stdout",
     "output_type": "stream",
     "text": [
      "Multiples of 3 between 0 and 34: [0, 3, 6, 9, 12, 15, 18, 21, 24, 27, 30, 33]\n"
     ]
    },
    {
     "name": "stdin",
     "output_type": "stream",
     "text": [
      "Do you want to continue? (yes to continue, any other key to quit):  f\n"
     ]
    }
   ],
   "source": [
    "while True:\n",
    "    x = int(input(\"Enter an integer between 0 and 9: \"))\n",
    "    while x < 0 or x >= 10:\n",
    "        x = int(input(\"Invalid. Enter an integer between 0 and 9: \"))\n",
    "\n",
    "    max_value = int(input(\"Enter an integer between 0 and 255: \"))\n",
    "    while max_value < 0 or max_value >= 256:\n",
    "        max_value = int(input(\"Invalid. Enter an integer between 0 and 255: \"))\n",
    "\n",
    "    multiples = [i for i in range(max_value + 1) if i % x == 0]\n",
    "    print(f\"Multiples of {x} between 0 and {max_value}: {multiples}\")\n",
    "\n",
    "    if input(\"Do you want to continue? (yes to continue, any other key to quit): \").lower() != \"yes\":\n",
    "        break"
   ]
  }
 ],
 "metadata": {
  "kernelspec": {
   "display_name": "Python 3 (ipykernel)",
   "language": "python",
   "name": "python3"
  },
  "language_info": {
   "codemirror_mode": {
    "name": "ipython",
    "version": 3
   },
   "file_extension": ".py",
   "mimetype": "text/x-python",
   "name": "python",
   "nbconvert_exporter": "python",
   "pygments_lexer": "ipython3",
   "version": "3.12.3"
  }
 },
 "nbformat": 4,
 "nbformat_minor": 5
}
